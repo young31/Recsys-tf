{
 "cells": [
  {
   "cell_type": "code",
   "execution_count": 1,
   "metadata": {},
   "outputs": [],
   "source": [
    "import numpy as np\n",
    "import pandas as pd\n",
    "\n",
    "import seaborn as sns\n",
    "import matplotlib.pyplot as plt\n",
    "\n",
    "import os,sys,inspect\n",
    "import gc\n",
    "from tqdm import tqdm\n",
    "import random\n",
    "\n",
    "currentdir = os.path.dirname(os.path.abspath(inspect.getfile(inspect.currentframe())))\n",
    "parentdir = os.path.dirname(currentdir)\n",
    "sys.path.insert(0,parentdir) \n",
    "\n",
    "from load import *\n",
    "from evals import *\n",
    "\n",
    "import warnings\n",
    "warnings.filterwarnings('ignore')"
   ]
  },
  {
   "cell_type": "code",
   "execution_count": 2,
   "metadata": {},
   "outputs": [],
   "source": [
    "SEED = 42\n",
    "np.random.seed(SEED)\n",
    "os.environ['PYTHONHASHSEED']=str(SEED)\n",
    "random.seed(SEED)"
   ]
  },
  {
   "cell_type": "code",
   "execution_count": 3,
   "metadata": {},
   "outputs": [],
   "source": [
    "def load_data(filname):\n",
    "    # only valid for currnet workspace\n",
    "    f = open(filname, 'r')\n",
    "    fs = f.readlines()\n",
    "    f.close()\n",
    "\n",
    "    df = pd.DataFrame(list(map(lambda x: x.split('\\t'), fs)), columns=['userId', 'movieId', 'rating', 'time'])\n",
    "    df = df.drop('time', axis=1)\n",
    "    df['userId'] = df['userId'].astype(int)\n",
    "    df['movieId'] = df['movieId'].astype(int)\n",
    "    df['rating'] = df['rating'].astype(float)\n",
    "    \n",
    "    df = df[['userId', 'movieId', 'rating']]\n",
    "    m_codes = df['movieId'].astype('category').cat.codes\n",
    "    u_codes = df['userId'].astype('category').cat.codes\n",
    "    df['movieId'] = m_codes\n",
    "    df['userId'] = u_codes\n",
    "    \n",
    "    return df\n",
    "\n",
    "def extract_from_df(df, n_positive):\n",
    "    df_ = df.copy()\n",
    "    rtd = []\n",
    "    \n",
    "    user_id = df['userId'].unique()\n",
    "    \n",
    "    for i in tqdm(user_id):\n",
    "        rtd += list(np.random.choice(df[df['userId']==i]['movieId'].index, n_positive, replace=False))\n",
    "        \n",
    "    return rtd"
   ]
  },
  {
   "cell_type": "code",
   "execution_count": 4,
   "metadata": {},
   "outputs": [],
   "source": [
    "df = load_data('../data/ml-100k/u.data')\n",
    "uuid = df['userId'].unique()\n",
    "uiid = df['movieId'].unique()\n"
   ]
  },
  {
   "cell_type": "code",
   "execution_count": 5,
   "metadata": {},
   "outputs": [
    {
     "name": "stderr",
     "output_type": "stream",
     "text": [
      "100%|██████████| 943/943 [00:00<00:00, 1985.10it/s]\n"
     ]
    }
   ],
   "source": [
    "rtd = extract_from_df(df, 1)\n",
    "train = df.drop(rtd)\n",
    "test = df.loc[rtd]"
   ]
  },
  {
   "cell_type": "code",
   "execution_count": 6,
   "metadata": {},
   "outputs": [],
   "source": [
    "R = pd.pivot_table(train, index='userId', values='rating', columns='movieId').fillna(0)\n",
    "\n",
    "P = np.where(R>0, 1, 0)\n",
    "R = R.values"
   ]
  },
  {
   "cell_type": "code",
   "execution_count": 7,
   "metadata": {},
   "outputs": [],
   "source": [
    "n_u = R.shape[0]\n",
    "n_i = R.shape[1]\n",
    "\n",
    "k = 20\n",
    "alpha = 40\n",
    "lamda = 150\n",
    "epochs = 10"
   ]
  },
  {
   "cell_type": "code",
   "execution_count": 8,
   "metadata": {},
   "outputs": [],
   "source": [
    "X = np.random.rand(n_u, k)*0.01\n",
    "Y = np.random.rand(n_i, k)*0.01\n",
    "\n",
    "C = (1 + alpha*R)"
   ]
  },
  {
   "cell_type": "code",
   "execution_count": 9,
   "metadata": {},
   "outputs": [],
   "source": [
    "def loss_function(C, P, X, Y, r_lambda):\n",
    "    predict_error = np.square(P - np.matmul(X, Y.T))\n",
    "    \n",
    "    regularization = r_lambda * (np.mean(np.square(X)) + np.mean(np.square(Y)))\n",
    "    confidence_error = np.mean(C * predict_error)\n",
    "    total_loss = confidence_error + regularization\n",
    "    predict_error = np.mean(predict_error)\n",
    "    return predict_error, confidence_error, regularization, total_loss"
   ]
  },
  {
   "cell_type": "code",
   "execution_count": 10,
   "metadata": {},
   "outputs": [],
   "source": [
    "def update(x, y, p, c=C):\n",
    "    xt = x.T\n",
    "    yt = y.T\n",
    "    \n",
    "    for u in range(n_u):\n",
    "        c_ = C[u, :]\n",
    "        p_ = P[u, :]\n",
    "        cu = np.diag(c_)\n",
    "        \n",
    "        ycy = y.T.dot(cu).dot(y)\n",
    "        ycyi = ycy+lamda*np.identity(ycy.shape[0])\n",
    "        ycp = y.T.dot(cu).dot(p_.T)\n",
    "        \n",
    "        x[u] = np.linalg.solve(ycyi, ycp)\n",
    "        \n",
    "    for i in range(n_i):\n",
    "        c_ = C[:, i]\n",
    "        p_ = P[:, i]\n",
    "        ci = np.diag(c_)\n",
    "        \n",
    "        xcx = x.T.dot(ci).dot(x)\n",
    "        xcxi = xcx+lamda*np.identity(xcx.shape[0])\n",
    "        xcp = x.T.dot(ci).dot(p_.T)\n",
    "        \n",
    "        y[i] = np.linalg.solve(xcxi, xcp)\n",
    "        \n",
    "    return x, y"
   ]
  },
  {
   "cell_type": "code",
   "execution_count": 11,
   "metadata": {},
   "outputs": [
    {
     "name": "stderr",
     "output_type": "stream",
     "text": [
      " 10%|█         | 1/10 [00:17<02:33, 17.09s/it]"
     ]
    },
    {
     "name": "stdout",
     "output_type": "stream",
     "text": [
      "----------------step 0----------------\n",
      "predict error: 0.161185\n",
      "confidence error: 2.068850\n",
      "regularization: 59.882542\n",
      "total loss: 61.951392\n"
     ]
    },
    {
     "name": "stderr",
     "output_type": "stream",
     "text": [
      "\r",
      " 20%|██        | 2/10 [00:34<02:16, 17.08s/it]"
     ]
    },
    {
     "name": "stdout",
     "output_type": "stream",
     "text": [
      "----------------step 1----------------\n",
      "predict error: 0.204791\n",
      "confidence error: 0.346337\n",
      "regularization: 41.705697\n",
      "total loss: 42.052034\n"
     ]
    },
    {
     "name": "stderr",
     "output_type": "stream",
     "text": [
      "\r",
      " 30%|███       | 3/10 [00:51<01:59, 17.09s/it]"
     ]
    },
    {
     "name": "stdout",
     "output_type": "stream",
     "text": [
      "----------------step 2----------------\n",
      "predict error: 0.183479\n",
      "confidence error: 0.284980\n",
      "regularization: 24.436931\n",
      "total loss: 24.721911\n"
     ]
    },
    {
     "name": "stderr",
     "output_type": "stream",
     "text": [
      "\r",
      " 40%|████      | 4/10 [01:08<01:43, 17.17s/it]"
     ]
    },
    {
     "name": "stdout",
     "output_type": "stream",
     "text": [
      "----------------step 3----------------\n",
      "predict error: 0.183041\n",
      "confidence error: 0.270308\n",
      "regularization: 20.359363\n",
      "total loss: 20.629672\n"
     ]
    },
    {
     "name": "stderr",
     "output_type": "stream",
     "text": [
      "\r",
      " 50%|█████     | 5/10 [01:25<01:25, 17.11s/it]"
     ]
    },
    {
     "name": "stdout",
     "output_type": "stream",
     "text": [
      "----------------step 4----------------\n",
      "predict error: 0.184066\n",
      "confidence error: 0.264862\n",
      "regularization: 19.003535\n",
      "total loss: 19.268396\n"
     ]
    },
    {
     "name": "stderr",
     "output_type": "stream",
     "text": [
      "\r",
      " 60%|██████    | 6/10 [01:42<01:08, 17.09s/it]"
     ]
    },
    {
     "name": "stdout",
     "output_type": "stream",
     "text": [
      "----------------step 5----------------\n",
      "predict error: 0.184955\n",
      "confidence error: 0.262373\n",
      "regularization: 18.352146\n",
      "total loss: 18.614519\n"
     ]
    },
    {
     "name": "stderr",
     "output_type": "stream",
     "text": [
      "\r",
      " 70%|███████   | 7/10 [01:59<00:51, 17.06s/it]"
     ]
    },
    {
     "name": "stdout",
     "output_type": "stream",
     "text": [
      "----------------step 6----------------\n",
      "predict error: 0.185648\n",
      "confidence error: 0.261109\n",
      "regularization: 17.963514\n",
      "total loss: 18.224623\n"
     ]
    },
    {
     "name": "stderr",
     "output_type": "stream",
     "text": [
      "\r",
      " 80%|████████  | 8/10 [02:16<00:34, 17.03s/it]"
     ]
    },
    {
     "name": "stdout",
     "output_type": "stream",
     "text": [
      "----------------step 7----------------\n",
      "predict error: 0.186194\n",
      "confidence error: 0.260424\n",
      "regularization: 17.704544\n",
      "total loss: 17.964968\n"
     ]
    },
    {
     "name": "stderr",
     "output_type": "stream",
     "text": [
      "\r",
      " 90%|█████████ | 9/10 [02:33<00:17, 17.07s/it]"
     ]
    },
    {
     "name": "stdout",
     "output_type": "stream",
     "text": [
      "----------------step 8----------------\n",
      "predict error: 0.186628\n",
      "confidence error: 0.260035\n",
      "regularization: 17.521659\n",
      "total loss: 17.781693\n"
     ]
    },
    {
     "name": "stderr",
     "output_type": "stream",
     "text": [
      "100%|██████████| 10/10 [02:50<00:00, 17.09s/it]"
     ]
    },
    {
     "name": "stdout",
     "output_type": "stream",
     "text": [
      "----------------step 9----------------\n",
      "predict error: 0.186977\n",
      "confidence error: 0.259804\n",
      "regularization: 17.388006\n",
      "total loss: 17.647810\n"
     ]
    },
    {
     "name": "stderr",
     "output_type": "stream",
     "text": [
      "\n"
     ]
    }
   ],
   "source": [
    "for e in tqdm(range(epochs)):\n",
    "    X, Y = update(X, Y, C)\n",
    "    predict_error, confidence_error, regularization, total_loss = loss_function(C, P, X, Y, lamda)\n",
    "    print('----------------step %d----------------' %e)\n",
    "    print(\"predict error: %f\" % predict_error)\n",
    "    print(\"confidence error: %f\" % confidence_error)\n",
    "    print(\"regularization: %f\" % regularization)\n",
    "    print(\"total loss: %f\" % total_loss)"
   ]
  },
  {
   "cell_type": "code",
   "execution_count": null,
   "metadata": {},
   "outputs": [],
   "source": []
  },
  {
   "cell_type": "code",
   "execution_count": 12,
   "metadata": {},
   "outputs": [],
   "source": [
    "def eval_hit(X, y, df, test, user_id, item_ids, top_k):\n",
    "    df = pd.concat([df, test])\n",
    "    items = list(set(item_ids) - set(df[df['userId']==user_id][df['rating']==1]['movieId'].values))\n",
    "    np.random.shuffle(items)\n",
    "    items = items[:99]\n",
    "    items.append(test[test['userId']==user_id]['movieId'].values[0])\n",
    "    items = np.array(items).reshape(-1, 1)\n",
    "\n",
    "    user = np.full(len(items), user_id).reshape(-1, 1)\n",
    "\n",
    "    preds = np.dot(X[user_id], Y[items].squeeze(1).T)\n",
    "    item_to_pred = {item: pred for item, pred in zip(items.flatten(), preds)}\n",
    "\n",
    "    top_k = heapq.nlargest(top_k, item_to_pred, key=item_to_pred.get)\n",
    "    \n",
    "    if items[-1][0] in top_k:\n",
    "            return 1\n",
    "    return 0\n",
    "\n",
    "def eval_NDCG(X, Y, df, test, user_id, item_ids, top_k):\n",
    "    df = pd.concat([df, test])\n",
    "    items = list(set(item_ids) - set(df[df['userId']==user_id][df['rating']==1]['movieId'].values))\n",
    "    np.random.shuffle(items)\n",
    "    items = items[:99]\n",
    "    items.append(test[test['userId']==user_id]['movieId'].values[0])\n",
    "    items = np.array(items).reshape(-1, 1)\n",
    "\n",
    "    user = np.full(len(items), user_id).reshape(-1, 1)\n",
    "\n",
    "    preds = np.dot(X[user_id], Y[items].squeeze(1).T)\n",
    "    item_to_pred = {item: pred for item, pred in zip(items.flatten(), preds)}\n",
    "\n",
    "    top_k = heapq.nlargest(top_k, item_to_pred, key=item_to_pred.get)\n",
    "    \n",
    "    for i, item in enumerate(top_k, 1):\n",
    "        if item == test[test['userId']==user_id]['movieId'].values:\n",
    "            return np.log(i) / np.log(i+2)\n",
    "    return 0\n",
    "\n",
    "def eval_hit_wrapper(X, Y, df, test, item_ids, top_k):\n",
    "    def f(user_id):\n",
    "        return eval_hit(X, Y, df, test, user_id, item_ids, top_k)\n",
    "    return f\n",
    "\n",
    "def eval_NDCG_wrapper(X, Y, df, test, item_ids, top_k):\n",
    "    def f(user_id):\n",
    "        return eval_NDCG(X, Y, df, test, user_id, item_ids, top_k)\n",
    "    return f"
   ]
  },
  {
   "cell_type": "code",
   "execution_count": 13,
   "metadata": {},
   "outputs": [
    {
     "name": "stdout",
     "output_type": "stream",
     "text": [
      "0.6935312831389183\n"
     ]
    }
   ],
   "source": [
    "hits10 = list(map(eval_hit_wrapper(X, Y, train, test, uiid, 10), uuid))\n",
    "print(sum(hits10)/len(hits10))"
   ]
  },
  {
   "cell_type": "code",
   "execution_count": 14,
   "metadata": {},
   "outputs": [
    {
     "name": "stdout",
     "output_type": "stream",
     "text": [
      "0.39732657914694164\n"
     ]
    }
   ],
   "source": [
    "ndcg10 = list(map(eval_NDCG_wrapper(X, Y, train, test, uiid, 10), uuid))\n",
    "print(sum(ndcg10)/len(ndcg10))"
   ]
  }
 ],
 "metadata": {
  "kernelspec": {
   "display_name": "Python 3",
   "language": "python",
   "name": "python3"
  },
  "language_info": {
   "codemirror_mode": {
    "name": "ipython",
    "version": 3
   },
   "file_extension": ".py",
   "mimetype": "text/x-python",
   "name": "python",
   "nbconvert_exporter": "python",
   "pygments_lexer": "ipython3",
   "version": "3.7.7"
  },
  "toc": {
   "base_numbering": 1,
   "nav_menu": {},
   "number_sections": true,
   "sideBar": true,
   "skip_h1_title": false,
   "title_cell": "Table of Contents",
   "title_sidebar": "Contents",
   "toc_cell": false,
   "toc_position": {},
   "toc_section_display": true,
   "toc_window_display": false
  }
 },
 "nbformat": 4,
 "nbformat_minor": 4
}
