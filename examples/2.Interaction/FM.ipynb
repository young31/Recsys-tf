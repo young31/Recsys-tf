{
 "cells": [
  {
   "cell_type": "code",
   "execution_count": 1,
   "metadata": {},
   "outputs": [],
   "source": [
    "# https://greeksharifa.github.io/machine_learning/2019/12/21/FM/#reference"
   ]
  },
  {
   "cell_type": "code",
   "execution_count": 2,
   "metadata": {},
   "outputs": [],
   "source": [
    "import numpy as np\n",
    "import pandas as pd\n",
    "\n",
    "import seaborn as sns\n",
    "import matplotlib.pyplot as plt\n",
    "\n",
    "import os,sys,inspect\n",
    "import gc\n",
    "from tqdm import tqdm\n",
    "import random\n",
    "\n",
    "currentdir = os.path.dirname(os.path.abspath(inspect.getfile(inspect.currentframe())))\n",
    "parentdir = os.path.dirname(currentdir)\n",
    "sys.path.insert(0,parentdir) \n",
    "\n",
    "from load import *\n",
    "from evals import *\n",
    "\n",
    "import warnings\n",
    "warnings.filterwarnings('ignore')"
   ]
  },
  {
   "cell_type": "code",
   "execution_count": 3,
   "metadata": {},
   "outputs": [],
   "source": [
    "from tensorflow import keras\n",
    "import tensorflow as tf\n",
    "from tensorflow.keras import optimizers, callbacks, layers, losses\n",
    "from tensorflow.keras.layers import Dense, Concatenate, Activation, Add, BatchNormalization, Dropout, Input, Embedding, Flatten, Multiply\n",
    "from tensorflow.keras.models import Model, Sequential, load_model\n",
    "from tensorflow.keras.regularizers import l2\n",
    "from tensorflow.keras.utils import to_categorical\n",
    "\n",
    "SEED = 42\n",
    "np.random.seed(SEED)\n",
    "tf.random.set_seed(SEED)\n",
    "os.environ['PYTHONHASHSEED']=str(SEED)\n",
    "random.seed(SEED)\n",
    "gpus = tf.config.experimental.list_physical_devices('GPU')\n",
    "\n",
    "if gpus:\n",
    "    try:\n",
    "        tf.config.experimental.set_memory_growth(gpus[0], True)\n",
    "    except RuntimeError as e:\n",
    "        # 프로그램 시작시에 메모리 증가가 설정되어야만 합니다\n",
    "        print(e)\n",
    "        \n",
    "def mish(x):\n",
    "    return x*tf.math.tanh(tf.math.softplus(x))\n",
    "\n",
    "def leakyrelu(x, factor=0.2):\n",
    "    return tf.maximum(x, factor*x)"
   ]
  },
  {
   "cell_type": "markdown",
   "metadata": {},
   "source": [
    "## Load"
   ]
  },
  {
   "cell_type": "code",
   "execution_count": 4,
   "metadata": {},
   "outputs": [],
   "source": [
    "df = load_data('../data/ml-100k/u.data', threshold=3)\n",
    "uuid = df['userId'].unique()\n",
    "uiid = df['movieId'].unique()\n"
   ]
  },
  {
   "cell_type": "code",
   "execution_count": 5,
   "metadata": {},
   "outputs": [],
   "source": [
    "from sklearn.model_selection import train_test_split\n",
    "\n",
    "train, test = train_test_split(df, test_size=0.15, random_state=SEED, stratify=df['userId'].values)"
   ]
  },
  {
   "cell_type": "code",
   "execution_count": 6,
   "metadata": {},
   "outputs": [],
   "source": [
    "tr_X = np.hstack([to_categorical(train['userId'], len(uuid)), to_categorical(train['movieId'], len(uiid))])\n",
    "test_X = np.hstack([to_categorical(test['userId'], len(uuid)), to_categorical(test['movieId'], len(uiid))])"
   ]
  },
  {
   "cell_type": "markdown",
   "metadata": {},
   "source": [
    "## Model"
   ]
  },
  {
   "cell_type": "code",
   "execution_count": 7,
   "metadata": {},
   "outputs": [],
   "source": [
    "# v1\n",
    "class FM_layer(keras.Model):\n",
    "    def __init__(self, x_dim, latent_dim, w_reg=1e-4, v_reg=1e-4):\n",
    "        super(FM_layer, self).__init__()\n",
    "        self.x_dim = x_dim\n",
    "        self.latent_dim = latent_dim\n",
    "        \n",
    "        self.w_reg = w_reg\n",
    "        self.v_reg = v_reg\n",
    "\n",
    "    def build(self, input_shape):\n",
    "        self.w_0 = self.add_weight(shape=(1, ),\n",
    "                                  initializer=tf.zeros_initializer(),\n",
    "                                  trainable=True)\n",
    "        \n",
    "        self.w = self.add_weight(shape=(self.x_dim, 1), \n",
    "                             initializer=tf.random_normal_initializer(),\n",
    "                                trainable=True,\n",
    "                                regularizer=l2(self.w_reg))\n",
    "        \n",
    "        self.V = self.add_weight(shape=(self.x_dim, self.latent_dim), \n",
    "                             initializer=tf.random_normal_initializer(),\n",
    "                                trainable=True,\n",
    "                                regularizer=l2(self.v_reg))\n",
    "\n",
    "    def call(self, inputs):\n",
    "        linear_terms = tf.reduce_sum(tf.matmul(inputs, self.w), axis=1)\n",
    "\n",
    "        interactions = 0.5 * tf.reduce_sum(\n",
    "            tf.pow(tf.matmul(inputs, self.V), 2)\n",
    "            - tf.matmul(tf.pow(inputs, 2), tf.pow(self.V, 2)),\n",
    "            1,\n",
    "            keepdims=False\n",
    "        )\n",
    "\n",
    "        y_hat = (self.w_0 + linear_terms + interactions)\n",
    "\n",
    "        return y_hat\n",
    "    \n",
    "# v2\n",
    "# class FM_layer(keras.Model):\n",
    "#     def __init__(self, x_dim, latent_dim):\n",
    "#         super(FM_layer, self).__init__()\n",
    "#         self.x_dim = x_dim\n",
    "#         self.latent_dim = latent_dim\n",
    "\n",
    "#         self.w_0 = tf.Variable([0.], shape=(1, ))\n",
    "#         self.w = tf.Variable(tf.random.normal((self.x_dim, 1), 0, 0.5), \n",
    "#                              shape=(self.x_dim, 1))\n",
    "#         self.V = tf.Variable(tf.random.normal((self.x_dim, self.latent_dim), 0, 0.5), \n",
    "#                              shape=(self.x_dim, self.latent_dim))\n",
    "\n",
    "#     def call(self, inputs):\n",
    "#         linear_terms = tf.reduce_sum(tf.matmul(inputs, self.w), axis=1)\n",
    "\n",
    "#         interactions = 0.5 * tf.reduce_sum(\n",
    "#             tf.pow(tf.matmul(inputs, self.V), 2)\n",
    "#             - tf.matmul(tf.pow(inputs, 2), tf.pow(self.V, 2)),\n",
    "#             1,\n",
    "#             keepdims=False\n",
    "#         )\n",
    "\n",
    "#         y_hat = (self.w_0 + linear_terms + interactions)\n",
    "        \n",
    "#         return y_hat"
   ]
  },
  {
   "cell_type": "markdown",
   "metadata": {},
   "source": [
    "## Train"
   ]
  },
  {
   "cell_type": "code",
   "execution_count": 8,
   "metadata": {},
   "outputs": [],
   "source": [
    "class FM(tf.keras.Model):\n",
    "    def __init__(self, x_dim, latnt_dim):\n",
    "        super(FM, self).__init__()\n",
    "        self.fm = FM_layer(x_dim, latnt_dim)\n",
    "\n",
    "    def call(self, inputs):\n",
    "        fm_outputs = self.fm(inputs)\n",
    "        outputs = tf.nn.sigmoid(fm_outputs)\n",
    "        return outputs"
   ]
  },
  {
   "cell_type": "code",
   "execution_count": 9,
   "metadata": {
    "scrolled": true
   },
   "outputs": [],
   "source": [
    "fm = FM(tr_X.shape[1], 8)"
   ]
  },
  {
   "cell_type": "code",
   "execution_count": 10,
   "metadata": {
    "scrolled": true
   },
   "outputs": [
    {
     "name": "stdout",
     "output_type": "stream",
     "text": [
      "Epoch 1/10\n",
      "2391/2391 [==============================] - 6s 2ms/step - loss: 0.6640 - val_loss: 0.6465\n",
      "Epoch 2/10\n",
      "2391/2391 [==============================] - 6s 2ms/step - loss: 0.6325 - val_loss: 0.6301\n",
      "Epoch 3/10\n",
      "2391/2391 [==============================] - 6s 2ms/step - loss: 0.6196 - val_loss: 0.6242\n",
      "Epoch 4/10\n",
      "2391/2391 [==============================] - 6s 2ms/step - loss: 0.6143 - val_loss: 0.6218\n",
      "Epoch 5/10\n",
      "2391/2391 [==============================] - 6s 2ms/step - loss: 0.6119 - val_loss: 0.6210\n",
      "Epoch 6/10\n",
      "2391/2391 [==============================] - 6s 2ms/step - loss: 0.6107 - val_loss: 0.6206\n",
      "Epoch 7/10\n",
      "2391/2391 [==============================] - 6s 2ms/step - loss: 0.6101 - val_loss: 0.6206\n",
      "Epoch 8/10\n",
      "2391/2391 [==============================] - 6s 2ms/step - loss: 0.6098 - val_loss: 0.6206\n",
      "Epoch 9/10\n",
      "2391/2391 [==============================] - 6s 2ms/step - loss: 0.6097 - val_loss: 0.6206\n",
      "Epoch 10/10\n",
      "2391/2391 [==============================] - 6s 2ms/step - loss: 0.6096 - val_loss: 0.6207\n"
     ]
    },
    {
     "data": {
      "text/plain": [
       "<tensorflow.python.keras.callbacks.History at 0x1a2c5f170c8>"
      ]
     },
     "execution_count": 10,
     "metadata": {},
     "output_type": "execute_result"
    }
   ],
   "source": [
    "fm.compile(loss='binary_crossentropy', optimizer='adam')\n",
    "fm.fit(tr_X, train['rating'].values,\n",
    "      epochs=10,\n",
    "      shuffle=True,\n",
    "      validation_split=0.1)"
   ]
  },
  {
   "cell_type": "markdown",
   "metadata": {},
   "source": [
    "## Eval"
   ]
  },
  {
   "cell_type": "code",
   "execution_count": 11,
   "metadata": {
    "scrolled": true
   },
   "outputs": [],
   "source": [
    "pred = fm.predict(test_X)\n",
    "# np.mean(np.square(test['rating'].values, pred.flatten()))\n"
   ]
  },
  {
   "cell_type": "code",
   "execution_count": 12,
   "metadata": {},
   "outputs": [
    {
     "data": {
      "text/plain": [
       "0.7033333333333334"
      ]
     },
     "execution_count": 12,
     "metadata": {},
     "output_type": "execute_result"
    }
   ],
   "source": [
    "# accuracy\n",
    "np.sum(np.where(pred>0.5, 1, 0).flatten() == test['rating'].values) / len(pred)"
   ]
  },
  {
   "cell_type": "code",
   "execution_count": 13,
   "metadata": {
    "scrolled": true
   },
   "outputs": [
    {
     "name": "stdout",
     "output_type": "stream",
     "text": [
      "0.7663188323983955\n",
      "0.6991350906095551\n",
      "0.8163019956720365\n"
     ]
    }
   ],
   "source": [
    "from sklearn.metrics import precision_score, recall_score,  roc_auc_score, precision_recall_fscore_support\n",
    "\n",
    "print(roc_auc_score(test['rating'].values, pred))\n",
    "print(precision_score(test['rating'].values, np.where(pred>0.5, 1, 0)))\n",
    "print(recall_score(test['rating'].values, np.where(pred>0.5, 1, 0)))"
   ]
  }
 ],
 "metadata": {
  "kernelspec": {
   "display_name": "Python 3",
   "language": "python",
   "name": "python3"
  },
  "language_info": {
   "codemirror_mode": {
    "name": "ipython",
    "version": 3
   },
   "file_extension": ".py",
   "mimetype": "text/x-python",
   "name": "python",
   "nbconvert_exporter": "python",
   "pygments_lexer": "ipython3",
   "version": "3.7.7"
  },
  "toc": {
   "base_numbering": 1,
   "nav_menu": {},
   "number_sections": true,
   "sideBar": true,
   "skip_h1_title": false,
   "title_cell": "Table of Contents",
   "title_sidebar": "Contents",
   "toc_cell": false,
   "toc_position": {},
   "toc_section_display": true,
   "toc_window_display": false
  }
 },
 "nbformat": 4,
 "nbformat_minor": 4
}
