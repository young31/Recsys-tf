{
 "cells": [
  {
   "cell_type": "code",
   "execution_count": 1,
   "metadata": {},
   "outputs": [],
   "source": [
    "# https://github.com/shenweichen/DeepCTR/blob/a94a8ece8374339eda162df66db1324df56aaba1/deepctr/layers/interaction.py#L683"
   ]
  },
  {
   "cell_type": "code",
   "execution_count": 2,
   "metadata": {},
   "outputs": [],
   "source": [
    "import numpy as np\n",
    "import pandas as pd\n",
    "\n",
    "import seaborn as sns\n",
    "import matplotlib.pyplot as plt\n",
    "\n",
    "import os,sys,inspect\n",
    "import gc\n",
    "from tqdm import tqdm\n",
    "import random\n",
    "\n",
    "currentdir = os.path.dirname(os.path.abspath(inspect.getfile(inspect.currentframe())))\n",
    "parentdir = os.path.dirname(currentdir)\n",
    "sys.path.insert(0,parentdir) \n",
    "\n",
    "from load import *\n",
    "from evals import *\n",
    "\n",
    "import warnings\n",
    "warnings.filterwarnings('ignore')"
   ]
  },
  {
   "cell_type": "code",
   "execution_count": 3,
   "metadata": {},
   "outputs": [],
   "source": [
    "from tensorflow import keras\n",
    "import tensorflow as tf\n",
    "from tensorflow.keras import optimizers, callbacks, layers, losses\n",
    "from tensorflow.keras.layers import Dense, Concatenate, Activation, Add, BatchNormalization, Dropout, Input, Embedding, Flatten, Multiply\n",
    "from tensorflow.keras.models import Model, Sequential, load_model\n",
    "from tensorflow.keras.regularizers import l2\n",
    "from tensorflow.keras.utils import to_categorical\n",
    "import tensorflow_addons as tfa\n",
    "\n",
    "SEED = 42\n",
    "np.random.seed(SEED)\n",
    "tf.random.set_seed(SEED)\n",
    "os.environ['PYTHONHASHSEED']=str(SEED)\n",
    "random.seed(SEED)\n",
    "gpus = tf.config.experimental.list_physical_devices('GPU')\n",
    "\n",
    "if gpus:\n",
    "    try:\n",
    "        tf.config.experimental.set_memory_growth(gpus[0], True)\n",
    "    except RuntimeError as e:\n",
    "        # 프로그램 시작시에 메모리 증가가 설정되어야만 합니다\n",
    "        print(e)\n",
    "        \n",
    "def mish(x):\n",
    "    return x*tf.math.tanh(tf.math.softplus(x))\n",
    "\n",
    "def leakyrelu(x, factor=0.2):\n",
    "    return tf.maximum(x, factor*x)"
   ]
  },
  {
   "cell_type": "code",
   "execution_count": null,
   "metadata": {},
   "outputs": [],
   "source": []
  },
  {
   "cell_type": "code",
   "execution_count": 4,
   "metadata": {},
   "outputs": [],
   "source": [
    "df = load_data('../data/ml-100k/u.data', threshold=3)\n",
    "uuid = df['userId'].unique()\n",
    "uiid = df['movieId'].unique()\n"
   ]
  },
  {
   "cell_type": "code",
   "execution_count": 5,
   "metadata": {},
   "outputs": [],
   "source": [
    "from sklearn.model_selection import train_test_split\n",
    "\n",
    "train, test = train_test_split(df, test_size=0.15, random_state=SEED, stratify=df['userId'].values)"
   ]
  },
  {
   "cell_type": "code",
   "execution_count": 6,
   "metadata": {},
   "outputs": [
    {
     "data": {
      "text/plain": [
       "((85000, 2), (15000, 2))"
      ]
     },
     "execution_count": 6,
     "metadata": {},
     "output_type": "execute_result"
    }
   ],
   "source": [
    "tr_X = np.stack([train['userId'].values.astype(np.int32), train['movieId'].values.astype(np.int32)], 1)\n",
    "test_X = np.stack([test['userId'].values.astype(np.int32), test['movieId'].values.astype(np.int32)], 1)\n",
    "\n",
    "tr_X.shape, test_X.shape"
   ]
  },
  {
   "cell_type": "code",
   "execution_count": null,
   "metadata": {},
   "outputs": [],
   "source": []
  },
  {
   "cell_type": "code",
   "execution_count": 7,
   "metadata": {},
   "outputs": [],
   "source": [
    "# class Attention_Emb(layers.Layer):\n",
    "#     def __init__(self, att_emb_size, head_num, use_resid=True):\n",
    "#         super(Attention_Emb, self).__init__()\n",
    "        \n",
    "#         self.att_emb_size = att_emb_size\n",
    "#         self.head_num = head_num\n",
    "#         self.use_resid = use_resid\n",
    "        \n",
    "#         self.flatten = Flatten()\n",
    "        \n",
    "#     def build(self, input_shape):\n",
    "#         units = self.att_emb_size * self.head_num\n",
    "        \n",
    "#         self.W_q = Dense(units)\n",
    "#         self.W_k = Dense(units)\n",
    "#         self.W_v = Dense(units)\n",
    "#         if self.use_resid:\n",
    "#             self.W_res = Dense(units)\n",
    "            \n",
    "#     def call(self, inputs):\n",
    "#         batch_size = tf.shape(inputs)[0]\n",
    "#         q = self.W_q(inputs)\n",
    "#         k = self.W_k(inputs)\n",
    "#         v = self.W_v(inputs)\n",
    "\n",
    "#         q = tf.transpose(tf.reshape(q, (batch_size, -1, self.head_num, self.att_emb_size)), [0, 2, 1, 3])\n",
    "#         k = tf.transpose(tf.reshape(k, (batch_size, -1, self.head_num, self.att_emb_size)), [0, 2, 1, 3])\n",
    "#         v = tf.transpose(tf.reshape(v, (batch_size, -1, self.head_num, self.att_emb_size)), [0, 2, 1, 3])\n",
    "\n",
    "#         att_score = tf.matmul(q, k, transpose_b=True)\n",
    "#         att_score = tf.nn.softmax(att_score, -1)\n",
    "\n",
    "#         out = tf.matmul(att_score, v)\n",
    "        \n",
    "#         out = tf.transpose(out, [0, 2, 1, 3])\n",
    "#         out = tf.reshape(out, (batch_size, -1, self.head_num*self.att_emb_size))\n",
    "\n",
    "#         if self.use_resid:\n",
    "#             out = out + self.W_res((inputs))\n",
    "            \n",
    "#         out = tf.nn.relu(out)\n",
    "        \n",
    "#         return out\n",
    "        \n",
    "        \n",
    "class MHA(layers.Layer):\n",
    "    def __init__(self, emb_size, head_num, use_resid=True):\n",
    "        super(MHA, self).__init__()\n",
    "        \n",
    "        self.emb_size = emb_size\n",
    "        self.head_num = head_num\n",
    "        self.use_resid = use_resid\n",
    "        \n",
    "        self.flatten = Flatten()\n",
    "        \n",
    "        self.att = tfa.layers.MultiHeadAttention(emb_size, head_num)\n",
    "        \n",
    "    def build(self, input_shape):\n",
    "        units = self.emb_size * self.head_num\n",
    "        \n",
    "        self.W_q = Dense(units)\n",
    "        self.W_k = Dense(units)\n",
    "        self.W_v = Dense(units)\n",
    "        if self.use_resid:\n",
    "            self.W_res = Dense(units)\n",
    "            \n",
    "    def call(self, inputs):\n",
    "        batch_size = tf.shape(inputs)[0]\n",
    "        q = self.W_q(inputs)\n",
    "        k = self.W_k(inputs)\n",
    "        v = self.W_v(inputs)\n",
    "        \n",
    "        out = self.att([q, k, v])\n",
    "\n",
    "        if self.use_resid:\n",
    "            out = out + self.W_res((inputs))\n",
    "            \n",
    "        out = tf.nn.relu(out)\n",
    "        \n",
    "        return out"
   ]
  },
  {
   "cell_type": "code",
   "execution_count": 8,
   "metadata": {},
   "outputs": [],
   "source": [
    "class AutoInt(tf.keras.Model):\n",
    "    def __init__(self, x_dims, latent_dim, att_sizes, att_heads, l2_emb=1e-4):\n",
    "        super(AutoInt, self).__init__()\n",
    "        \n",
    "        self.x_dims = x_dims\n",
    "        self.latent_dim = latent_dim\n",
    "\n",
    "        self.embedding = Embedding(sum(x_dims)+1, latent_dim, input_length=1, embeddings_regularizer=l2(l2_emb))\n",
    "        \n",
    "        self.linear = Dense(1)\n",
    "        \n",
    "        self.att_layers = [MHA(a, h) for a, h in zip(att_sizes, att_heads)]\n",
    "        \n",
    "        self.flatten =  Flatten()\n",
    "        \n",
    "    def call(self, inputs):\n",
    "        emb = self.embedding(inputs + tf.constant((0, *np.cumsum(self.x_dims)))[:-1])\n",
    "        \n",
    "        att = emb\n",
    "        for att_layer in self.att_layers:\n",
    "            att = att_layer(att)\n",
    "        \n",
    "        out = self.linear(self.flatten(att))\n",
    "        \n",
    "        return out"
   ]
  },
  {
   "cell_type": "code",
   "execution_count": 9,
   "metadata": {},
   "outputs": [],
   "source": [
    "autoint = AutoInt((len(uuid), len(uiid)), 8, [8, 8], [2, 2])"
   ]
  },
  {
   "cell_type": "code",
   "execution_count": 10,
   "metadata": {},
   "outputs": [],
   "source": [
    "autoint.compile(loss=losses.BinaryCrossentropy(from_logits=True), \n",
    "            optimizer=optimizers.Adam(2e-4))"
   ]
  },
  {
   "cell_type": "code",
   "execution_count": 11,
   "metadata": {},
   "outputs": [
    {
     "name": "stdout",
     "output_type": "stream",
     "text": [
      "Epoch 1/10\n",
      "2391/2391 [==============================] - 17s 7ms/step - loss: 0.6168 - val_loss: 0.5763\n",
      "Epoch 2/10\n",
      "2391/2391 [==============================] - 16s 7ms/step - loss: 0.5602 - val_loss: 0.5716\n",
      "Epoch 3/10\n",
      "2391/2391 [==============================] - 16s 7ms/step - loss: 0.5537 - val_loss: 0.5695\n",
      "Epoch 4/10\n",
      "2391/2391 [==============================] - 16s 7ms/step - loss: 0.5507 - val_loss: 0.5680\n",
      "Epoch 5/10\n",
      "2391/2391 [==============================] - 16s 7ms/step - loss: 0.5466 - val_loss: 0.5663\n",
      "Epoch 6/10\n",
      "2391/2391 [==============================] - 16s 7ms/step - loss: 0.5390 - val_loss: 0.5655\n",
      "Epoch 7/10\n",
      "2391/2391 [==============================] - 16s 7ms/step - loss: 0.5333 - val_loss: 0.5668\n",
      "Epoch 8/10\n",
      "2391/2391 [==============================] - 16s 7ms/step - loss: 0.5293 - val_loss: 0.5672\n",
      "Epoch 9/10\n",
      "2391/2391 [==============================] - 16s 7ms/step - loss: 0.5261 - val_loss: 0.5678\n",
      "Epoch 10/10\n",
      "2391/2391 [==============================] - 16s 7ms/step - loss: 0.5233 - val_loss: 0.5694\n"
     ]
    }
   ],
   "source": [
    "hist = autoint.fit(tr_X, \n",
    "           train['rating'].values,\n",
    "          epochs=10,\n",
    "          shuffle=True,\n",
    "          validation_split=0.1)"
   ]
  },
  {
   "cell_type": "code",
   "execution_count": 12,
   "metadata": {},
   "outputs": [
    {
     "data": {
      "text/plain": [
       "[<matplotlib.lines.Line2D at 0x22784f5bdc8>]"
      ]
     },
     "execution_count": 12,
     "metadata": {},
     "output_type": "execute_result"
    },
    {
     "data": {
      "image/png": "[encoded data removed]",
      "text/plain": [
       "<Figure size 432x288 with 1 Axes>"
      ]
     },
     "metadata": {
      "needs_background": "light"
     },
     "output_type": "display_data"
    }
   ],
   "source": [
    "plt.plot(hist.history['loss'])\n",
    "plt.plot(hist.history['val_loss'])"
   ]
  },
  {
   "cell_type": "code",
   "execution_count": null,
   "metadata": {},
   "outputs": [],
   "source": []
  },
  {
   "cell_type": "code",
   "execution_count": 13,
   "metadata": {},
   "outputs": [],
   "source": [
    "pred = autoint.predict(test_X)\n"
   ]
  },
  {
   "cell_type": "code",
   "execution_count": 14,
   "metadata": {},
   "outputs": [
    {
     "data": {
      "text/plain": [
       "0.7214666666666667"
      ]
     },
     "execution_count": 14,
     "metadata": {},
     "output_type": "execute_result"
    }
   ],
   "source": [
    "np.sum(np.where(pred>0., 1, 0).flatten() == test['rating'].values) / len(pred)"
   ]
  },
  {
   "cell_type": "code",
   "execution_count": 15,
   "metadata": {},
   "outputs": [
    {
     "name": "stdout",
     "output_type": "stream",
     "text": [
      "0.787184255606191\n",
      "0.7213903743315508\n",
      "0.8108920413560952\n"
     ]
    }
   ],
   "source": [
    "from sklearn.metrics import precision_score, recall_score,  roc_auc_score, precision_recall_fscore_support\n",
    "\n",
    "print(roc_auc_score(test['rating'].values, pred))\n",
    "print(precision_score(test['rating'].values, np.where(pred>0., 1, 0)))\n",
    "print(recall_score(test['rating'].values, np.where(pred>0., 1, 0)))"
   ]
  }
 ],
 "metadata": {
  "kernelspec": {
   "display_name": "Python 3",
   "language": "python",
   "name": "python3"
  },
  "language_info": {
   "codemirror_mode": {
    "name": "ipython",
    "version": 3
   },
   "file_extension": ".py",
   "mimetype": "text/x-python",
   "name": "python",
   "nbconvert_exporter": "python",
   "pygments_lexer": "ipython3",
   "version": "3.7.7"
  },
  "toc": {
   "base_numbering": 1,
   "nav_menu": {},
   "number_sections": true,
   "sideBar": true,
   "skip_h1_title": false,
   "title_cell": "Table of Contents",
   "title_sidebar": "Contents",
   "toc_cell": false,
   "toc_position": {},
   "toc_section_display": true,
   "toc_window_display": false
  }
 },
 "nbformat": 4,
 "nbformat_minor": 4
}
