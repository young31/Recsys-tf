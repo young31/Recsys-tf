{
 "cells": [
  {
   "cell_type": "code",
   "execution_count": 1,
   "metadata": {},
   "outputs": [],
   "source": [
    "import numpy as np\n",
    "import pandas as pd\n",
    "\n",
    "import seaborn as sns\n",
    "import matplotlib.pyplot as plt\n",
    "\n",
    "import os,sys,inspect\n",
    "import gc\n",
    "from tqdm import tqdm\n",
    "import random\n",
    "\n",
    "currentdir = os.path.dirname(os.path.abspath(inspect.getfile(inspect.currentframe())))\n",
    "parentdir = os.path.dirname(currentdir)\n",
    "sys.path.insert(0,parentdir) \n",
    "\n",
    "from load import *\n",
    "from evals import *\n",
    "\n",
    "import warnings\n",
    "warnings.filterwarnings('ignore')"
   ]
  },
  {
   "cell_type": "code",
   "execution_count": 2,
   "metadata": {},
   "outputs": [],
   "source": [
    "from tensorflow import keras\n",
    "import tensorflow as tf\n",
    "from tensorflow.keras import optimizers, callbacks, layers, losses\n",
    "from tensorflow.keras.layers import Dense, Concatenate, Activation, Add, BatchNormalization, Dropout, Input, Embedding, Flatten, Multiply\n",
    "from tensorflow.keras.models import Model, Sequential, load_model\n",
    "from tensorflow.keras.regularizers import l2\n",
    "from tensorflow.keras.utils import to_categorical\n",
    "\n",
    "SEED = 42\n",
    "np.random.seed(SEED)\n",
    "tf.random.set_seed(SEED)\n",
    "os.environ['PYTHONHASHSEED']=str(SEED)\n",
    "random.seed(SEED)\n",
    "gpus = tf.config.experimental.list_physical_devices('GPU')\n",
    "\n",
    "if gpus:\n",
    "    try:\n",
    "        tf.config.experimental.set_memory_growth(gpus[0], True)\n",
    "    except RuntimeError as e:\n",
    "        # 프로그램 시작시에 메모리 증가가 설정되어야만 합니다\n",
    "        print(e)\n",
    "        \n",
    "def mish(x):\n",
    "    return x*tf.math.tanh(tf.math.softplus(x))\n",
    "\n",
    "def leakyrelu(x, factor=0.2):\n",
    "    return tf.maximum(x, factor*x)"
   ]
  },
  {
   "cell_type": "markdown",
   "metadata": {},
   "source": [
    "## Load"
   ]
  },
  {
   "cell_type": "code",
   "execution_count": 3,
   "metadata": {},
   "outputs": [],
   "source": [
    "df = load_data('../data/ml-100k/u.data', threshold=3)\n",
    "uuid = df['userId'].unique()\n",
    "uiid = df['movieId'].unique()\n"
   ]
  },
  {
   "cell_type": "code",
   "execution_count": 4,
   "metadata": {},
   "outputs": [],
   "source": [
    "from sklearn.model_selection import train_test_split\n",
    "\n",
    "train, test = train_test_split(df, test_size=0.15, random_state=SEED, stratify=df['userId'].values)"
   ]
  },
  {
   "cell_type": "code",
   "execution_count": 5,
   "metadata": {},
   "outputs": [
    {
     "data": {
      "text/plain": [
       "((85000, 2), (15000, 2))"
      ]
     },
     "execution_count": 5,
     "metadata": {},
     "output_type": "execute_result"
    }
   ],
   "source": [
    "tr_X = np.stack([train['userId'].values.astype(np.int32), train['movieId'].values.astype(np.int32)], 1)\n",
    "test_X = np.stack([test['userId'].values.astype(np.int32), test['movieId'].values.astype(np.int32)], 1)\n",
    "\n",
    "tr_X.shape, test_X.shape"
   ]
  },
  {
   "cell_type": "markdown",
   "metadata": {},
   "source": [
    "## Model"
   ]
  },
  {
   "cell_type": "code",
   "execution_count": 6,
   "metadata": {},
   "outputs": [],
   "source": [
    "class FM_layer(keras.Model):\n",
    "    def __init__(self, latent_dim, w_reg=1e-4, v_reg=1e-4):\n",
    "        super(FM_layer, self).__init__()\n",
    "        self.latent_dim = latent_dim\n",
    "        \n",
    "        self.w_reg = w_reg\n",
    "        self.v_reg = v_reg\n",
    "\n",
    "    def build(self, input_shape):\n",
    "        self.w_0 = self.add_weight(shape=(1, ),\n",
    "                                  initializer=tf.zeros_initializer(),\n",
    "                                  trainable=True)\n",
    "        \n",
    "        self.w = self.add_weight(shape=(input_shape[-1], 1), \n",
    "                             initializer=tf.random_normal_initializer(),\n",
    "                                trainable=True,\n",
    "                                regularizer=l2(self.w_reg))\n",
    "        \n",
    "        self.V = self.add_weight(shape=(input_shape[-1], self.latent_dim), \n",
    "                             initializer=tf.random_normal_initializer(),\n",
    "                                trainable=True,\n",
    "                                regularizer=l2(self.v_reg))\n",
    "\n",
    "    def call(self, inputs):\n",
    "        linear_terms = tf.reduce_sum(tf.matmul(inputs, self.w), axis=1)\n",
    "\n",
    "        interactions = 0.5 * tf.reduce_sum(\n",
    "            tf.pow(tf.matmul(inputs, self.V), 2)\n",
    "            - tf.matmul(tf.pow(inputs, 2), tf.pow(self.V, 2)),\n",
    "            1,\n",
    "            keepdims=False\n",
    "        )\n",
    "\n",
    "        y_hat = (self.w_0 + linear_terms + interactions)\n",
    "\n",
    "        return y_hat"
   ]
  },
  {
   "cell_type": "code",
   "execution_count": 7,
   "metadata": {},
   "outputs": [],
   "source": [
    "class DeepFM(tf.keras.Model):\n",
    "    def __init__(self, x_dims, latent_dim, l2_emb=1e-4):\n",
    "        super(DeepFM, self).__init__()\n",
    "        \n",
    "        self.x_dims = x_dims\n",
    "        self.latent_dim = latent_dim\n",
    "\n",
    "        self.embedding = Embedding(sum(x_dims)+1, latent_dim, input_length=1, embeddings_regularizer=l2(l2_emb))\n",
    "        self.fm_layer = FM_layer(latent_dim)\n",
    "        self.dnn_layers = self.build_dnn()\n",
    "        self.flatten =  Flatten()\n",
    "\n",
    "    def build_dnn(self):\n",
    "        model = Sequential()\n",
    "        model.add(Dense(128, activation='relu'))\n",
    "        model.add(Dense(64, activation='relu'))\n",
    "        model.add(Dense(1))\n",
    "        \n",
    "        return model\n",
    "        \n",
    "\n",
    "    def call(self, inputs):        \n",
    "        emb = self.embedding(inputs + tf.constant((0, *np.cumsum(self.x_dims)))[:-1])\n",
    "        embed = self.flatten(emb)\n",
    "\n",
    "        fm_out = self.fm_layer(embed)\n",
    "\n",
    "        deep_out = self.dnn_layers(embed)\n",
    "\n",
    "        outputs = fm_out + tf.squeeze(deep_out)\n",
    "        \n",
    "        return outputs"
   ]
  },
  {
   "cell_type": "markdown",
   "metadata": {},
   "source": [
    "## Train"
   ]
  },
  {
   "cell_type": "code",
   "execution_count": 8,
   "metadata": {},
   "outputs": [],
   "source": [
    "dfm = DeepFM((len(uuid), len(uiid)), 8)"
   ]
  },
  {
   "cell_type": "code",
   "execution_count": 9,
   "metadata": {
    "scrolled": false
   },
   "outputs": [
    {
     "name": "stdout",
     "output_type": "stream",
     "text": [
      "Epoch 1/10\n",
      "2391/2391 [==============================] - 11s 5ms/step - loss: 0.5958 - val_loss: 0.5773\n",
      "Epoch 2/10\n",
      "2391/2391 [==============================] - 10s 4ms/step - loss: 0.5615 - val_loss: 0.5757\n",
      "Epoch 3/10\n",
      "2391/2391 [==============================] - 10s 4ms/step - loss: 0.5545 - val_loss: 0.5728\n",
      "Epoch 4/10\n",
      "2391/2391 [==============================] - 10s 4ms/step - loss: 0.5495 - val_loss: 0.5696\n",
      "Epoch 5/10\n",
      "2391/2391 [==============================] - 10s 4ms/step - loss: 0.5443 - val_loss: 0.5689\n",
      "Epoch 6/10\n",
      "2391/2391 [==============================] - 10s 4ms/step - loss: 0.5365 - val_loss: 0.5712\n",
      "Epoch 7/10\n",
      "2391/2391 [==============================] - 10s 4ms/step - loss: 0.5299 - val_loss: 0.5777\n",
      "Epoch 8/10\n",
      "2391/2391 [==============================] - 10s 4ms/step - loss: 0.5234 - val_loss: 0.5752\n",
      "Epoch 9/10\n",
      "2391/2391 [==============================] - 10s 4ms/step - loss: 0.5178 - val_loss: 0.5755\n",
      "Epoch 10/10\n",
      "2391/2391 [==============================] - 10s 4ms/step - loss: 0.5120 - val_loss: 0.5805\n"
     ]
    },
    {
     "data": {
      "text/plain": [
       "<tensorflow.python.keras.callbacks.History at 0x28c577ff188>"
      ]
     },
     "execution_count": 9,
     "metadata": {},
     "output_type": "execute_result"
    }
   ],
   "source": [
    "dfm.compile(loss=losses.BinaryCrossentropy(from_logits=True), \n",
    "            optimizer=optimizers.Adam())\n",
    "\n",
    "dfm.fit(tr_X, \n",
    "       train['rating'].values,\n",
    "      epochs=10,\n",
    "      shuffle=True,\n",
    "      validation_split=0.1)"
   ]
  },
  {
   "cell_type": "markdown",
   "metadata": {},
   "source": [
    "## Eval"
   ]
  },
  {
   "cell_type": "code",
   "execution_count": 10,
   "metadata": {},
   "outputs": [],
   "source": [
    "pred = dfm.predict(test_X)\n"
   ]
  },
  {
   "cell_type": "code",
   "execution_count": 11,
   "metadata": {},
   "outputs": [
    {
     "data": {
      "text/plain": [
       "0.7224"
      ]
     },
     "execution_count": 11,
     "metadata": {},
     "output_type": "execute_result"
    }
   ],
   "source": [
    "np.sum(np.where(pred>0., 1, 0).flatten() == test['rating'].values) / len(pred)"
   ]
  },
  {
   "cell_type": "code",
   "execution_count": 12,
   "metadata": {},
   "outputs": [
    {
     "name": "stdout",
     "output_type": "stream",
     "text": [
      "0.7888386196000222\n",
      "0.7348484848484849\n",
      "0.7813176244289493\n"
     ]
    }
   ],
   "source": [
    "from sklearn.metrics import precision_score, recall_score,  roc_auc_score, precision_recall_fscore_support\n",
    "\n",
    "print(roc_auc_score(test['rating'].values, pred))\n",
    "print(precision_score(test['rating'].values, np.where(pred>0., 1, 0)))\n",
    "print(recall_score(test['rating'].values, np.where(pred>0., 1, 0)))"
   ]
  },
  {
   "cell_type": "code",
   "execution_count": null,
   "metadata": {},
   "outputs": [],
   "source": []
  }
 ],
 "metadata": {
  "kernelspec": {
   "display_name": "Python 3",
   "language": "python",
   "name": "python3"
  },
  "language_info": {
   "codemirror_mode": {
    "name": "ipython",
    "version": 3
   },
   "file_extension": ".py",
   "mimetype": "text/x-python",
   "name": "python",
   "nbconvert_exporter": "python",
   "pygments_lexer": "ipython3",
   "version": "3.7.7"
  },
  "toc": {
   "base_numbering": 1,
   "nav_menu": {},
   "number_sections": true,
   "sideBar": true,
   "skip_h1_title": false,
   "title_cell": "Table of Contents",
   "title_sidebar": "Contents",
   "toc_cell": false,
   "toc_position": {},
   "toc_section_display": true,
   "toc_window_display": false
  }
 },
 "nbformat": 4,
 "nbformat_minor": 4
}
