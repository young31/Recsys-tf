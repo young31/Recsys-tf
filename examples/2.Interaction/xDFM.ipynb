{
 "cells": [
  {
   "cell_type": "code",
   "execution_count": 1,
   "metadata": {},
   "outputs": [],
   "source": [
    "import numpy as np\n",
    "import pandas as pd\n",
    "\n",
    "import seaborn as sns\n",
    "import matplotlib.pyplot as plt\n",
    "\n",
    "import os,sys,inspect\n",
    "import gc\n",
    "from tqdm import tqdm\n",
    "import random\n",
    "\n",
    "currentdir = os.path.dirname(os.path.abspath(inspect.getfile(inspect.currentframe())))\n",
    "parentdir = os.path.dirname(currentdir)\n",
    "sys.path.insert(0,parentdir) \n",
    "\n",
    "from load import *\n",
    "from evals import *\n",
    "\n",
    "import warnings\n",
    "warnings.filterwarnings('ignore')"
   ]
  },
  {
   "cell_type": "code",
   "execution_count": 2,
   "metadata": {},
   "outputs": [],
   "source": [
    "from tensorflow import keras\n",
    "import tensorflow as tf\n",
    "from tensorflow.keras import optimizers, callbacks, layers, losses\n",
    "from tensorflow.keras.layers import Dense, Concatenate, Activation, Add, BatchNormalization, Dropout, Input, Embedding, Flatten, Multiply, Conv1D\n",
    "from tensorflow.keras.models import Model, Sequential, load_model\n",
    "from tensorflow.keras.regularizers import l2\n",
    "from tensorflow.keras.utils import to_categorical\n",
    "\n",
    "SEED = 42\n",
    "np.random.seed(SEED)\n",
    "tf.random.set_seed(SEED)\n",
    "os.environ['PYTHONHASHSEED']=str(SEED)\n",
    "random.seed(SEED)\n",
    "gpus = tf.config.experimental.list_physical_devices('GPU')\n",
    "\n",
    "if gpus:\n",
    "    try:\n",
    "        tf.config.experimental.set_memory_growth(gpus[0], True)\n",
    "    except RuntimeError as e:\n",
    "        # 프로그램 시작시에 메모리 증가가 설정되어야만 합니다\n",
    "        print(e)\n",
    "        \n",
    "def mish(x):\n",
    "    return x*tf.math.tanh(tf.math.softplus(x))\n",
    "\n",
    "def leakyrelu(x, factor=0.2):\n",
    "    return tf.maximum(x, factor*x)"
   ]
  },
  {
   "cell_type": "markdown",
   "metadata": {},
   "source": [
    "## Load"
   ]
  },
  {
   "cell_type": "code",
   "execution_count": 3,
   "metadata": {},
   "outputs": [],
   "source": [
    "df = load_data('../data/ml-100k/u.data', threshold=3)\n",
    "uuid = df['userId'].unique()\n",
    "uiid = df['movieId'].unique()\n"
   ]
  },
  {
   "cell_type": "code",
   "execution_count": 4,
   "metadata": {},
   "outputs": [],
   "source": [
    "from sklearn.model_selection import train_test_split\n",
    "\n",
    "train, test = train_test_split(df, test_size=0.15, random_state=SEED, stratify=df['userId'].values)"
   ]
  },
  {
   "cell_type": "code",
   "execution_count": 5,
   "metadata": {},
   "outputs": [
    {
     "data": {
      "text/plain": [
       "((85000, 2), (15000, 2))"
      ]
     },
     "execution_count": 5,
     "metadata": {},
     "output_type": "execute_result"
    }
   ],
   "source": [
    "tr_X = np.stack([train['userId'].values.astype(np.int32), train['movieId'].values.astype(np.int32)], 1)\n",
    "test_X = np.stack([test['userId'].values.astype(np.int32), test['movieId'].values.astype(np.int32)], 1)\n",
    "\n",
    "tr_X.shape, test_X.shape"
   ]
  },
  {
   "cell_type": "markdown",
   "metadata": {},
   "source": [
    "## Model"
   ]
  },
  {
   "cell_type": "code",
   "execution_count": 6,
   "metadata": {},
   "outputs": [],
   "source": [
    "class CIN(layers.Layer):\n",
    "    def __init__(self, cross_layer_sizes, activation=None):\n",
    "        super(CIN, self).__init__()\n",
    "        self.cross_layer_sizes = cross_layer_sizes\n",
    "        self.n_layers = len(cross_layer_sizes)\n",
    "        self.activation = None\n",
    "        \n",
    "        if activation:\n",
    "            self.activation = Activation(activation)\n",
    "        \n",
    "        self.cross_layers = []\n",
    "        for corss_layer_size in cross_layer_sizes:\n",
    "            self.cross_layers.append(Conv1D(corss_layer_size, 1, data_format='channels_first'))\n",
    "            \n",
    "        self.linear = Dense(1)\n",
    "    \n",
    "    def call(self, inputs): # embedding is input\n",
    "        batch_size, field_size, emb_size = inputs.shape\n",
    "        xs = [inputs]\n",
    "\n",
    "        for i, layer in enumerate(self.cross_layers):\n",
    "            x = tf.einsum('nie,nje->nije', xs[i], xs[0])\n",
    "            x = tf.reshape(x, (-1, field_size*xs[i].shape[1] , emb_size))\n",
    "\n",
    "            x = layer(x)\n",
    "            if self.activation:\n",
    "                x = self.activation(x)\n",
    "            \n",
    "            xs.append(x)\n",
    "            \n",
    "        res = tf.reduce_sum(tf.concat(xs, axis=1), -1)\n",
    "        return res"
   ]
  },
  {
   "cell_type": "code",
   "execution_count": 7,
   "metadata": {},
   "outputs": [],
   "source": [
    "class xDFM(Model):\n",
    "    def __init__(self, x_dims, latent_dim, cin_layers, dnn_layers, activation=None, l2_emb=1e-4):\n",
    "        super(xDFM, self).__init__()\n",
    "        self.x_dims = x_dims\n",
    "        \n",
    "        self.embedding = Embedding(sum(x_dims)+1, latent_dim, input_length=1, embeddings_regularizer=l2(l2_emb))\n",
    "        \n",
    "        self.linear = Dense(1)\n",
    "        \n",
    "        self.dnn_layers = [Dense(n, activation=activation) for n in dnn_layers]\n",
    "        self.dnn_final = Dense(1)\n",
    "        \n",
    "        self.cin_layers = CIN(cin_layers, activation=activation)\n",
    "        self.cin_final = Dense(1)\n",
    "        \n",
    "    def call(self, inputs):\n",
    "        # only apply ohe for categorical\n",
    "        n_feat = inputs.shape[-1]\n",
    "        sparse = [(tf.one_hot(inputs[:,i], self.x_dims[i])) for i in range(n_feat)]\n",
    "        sparse = tf.concat(sparse, 1)\n",
    "\n",
    "        emb = self.embedding(inputs + tf.constant((0, *np.cumsum(self.x_dims)))[:-1])\n",
    "\n",
    "        dnn_input = Flatten()(emb)\n",
    "\n",
    "        linear_out = self.linear(sparse)\n",
    "            \n",
    "        dnn_out = dnn_input\n",
    "        for dnn_layer in self.dnn_layers:\n",
    "            dnn_out = dnn_layer(dnn_out)\n",
    "        dnn_out = self.dnn_final(dnn_out)\n",
    "\n",
    "        cin_out = self.cin_layers(emb)\n",
    "        cin_out = self.cin_final(cin_out)\n",
    "\n",
    "        out = linear_out + dnn_out + cin_out\n",
    "        \n",
    "        return out\n",
    "        "
   ]
  },
  {
   "cell_type": "markdown",
   "metadata": {},
   "source": [
    "## Train"
   ]
  },
  {
   "cell_type": "code",
   "execution_count": 8,
   "metadata": {},
   "outputs": [],
   "source": [
    "xdfm = xDFM((len(uuid), len(uiid)), 8, [32, 32], [128, 64], 'relu')"
   ]
  },
  {
   "cell_type": "code",
   "execution_count": 9,
   "metadata": {
    "scrolled": true
   },
   "outputs": [
    {
     "name": "stdout",
     "output_type": "stream",
     "text": [
      "Epoch 1/5\n",
      "2391/2391 [==============================] - 11s 5ms/step - loss: 0.5945 - val_loss: 0.5764\n",
      "Epoch 2/5\n",
      "2391/2391 [==============================] - 11s 5ms/step - loss: 0.5610 - val_loss: 0.5742\n",
      "Epoch 3/5\n",
      "2391/2391 [==============================] - 11s 5ms/step - loss: 0.5535 - val_loss: 0.5712\n",
      "Epoch 4/5\n",
      "2391/2391 [==============================] - 11s 5ms/step - loss: 0.5475 - val_loss: 0.5686\n",
      "Epoch 5/5\n",
      "2391/2391 [==============================] - 11s 5ms/step - loss: 0.5420 - val_loss: 0.5693\n"
     ]
    },
    {
     "data": {
      "text/plain": [
       "<tensorflow.python.keras.callbacks.History at 0x155ab9c9508>"
      ]
     },
     "execution_count": 9,
     "metadata": {},
     "output_type": "execute_result"
    }
   ],
   "source": [
    "# easily overfitting, reduce epochs\n",
    "xdfm.compile(loss=losses.BinaryCrossentropy(from_logits=True), \n",
    "            optimizer=optimizers.Adam())\n",
    "\n",
    "xdfm.fit(tr_X, \n",
    "       train['rating'].values,\n",
    "      epochs=5,\n",
    "      shuffle=True,\n",
    "      validation_split=0.1)"
   ]
  },
  {
   "cell_type": "markdown",
   "metadata": {},
   "source": [
    "## Eval"
   ]
  },
  {
   "cell_type": "code",
   "execution_count": 10,
   "metadata": {},
   "outputs": [],
   "source": [
    "pred = xdfm.predict(test_X)\n"
   ]
  },
  {
   "cell_type": "code",
   "execution_count": 11,
   "metadata": {},
   "outputs": [
    {
     "data": {
      "text/plain": [
       "0.7232"
      ]
     },
     "execution_count": 11,
     "metadata": {},
     "output_type": "execute_result"
    }
   ],
   "source": [
    "np.sum(np.where(pred>0., 1, 0).flatten() == test['rating'].values) / len(pred)"
   ]
  },
  {
   "cell_type": "code",
   "execution_count": 12,
   "metadata": {},
   "outputs": [
    {
     "name": "stdout",
     "output_type": "stream",
     "text": [
      "0.7906122962149786\n",
      "0.7255305326981377\n",
      "0.8056023082471748\n"
     ]
    }
   ],
   "source": [
    "from sklearn.metrics import precision_score, recall_score,  roc_auc_score, precision_recall_fscore_support\n",
    "\n",
    "print(roc_auc_score(test['rating'].values, pred))\n",
    "print(precision_score(test['rating'].values, np.where(pred>0., 1, 0)))\n",
    "print(recall_score(test['rating'].values, np.where(pred>0., 1, 0)))"
   ]
  },
  {
   "cell_type": "code",
   "execution_count": null,
   "metadata": {},
   "outputs": [],
   "source": []
  }
 ],
 "metadata": {
  "kernelspec": {
   "display_name": "Python 3",
   "language": "python",
   "name": "python3"
  },
  "language_info": {
   "codemirror_mode": {
    "name": "ipython",
    "version": 3
   },
   "file_extension": ".py",
   "mimetype": "text/x-python",
   "name": "python",
   "nbconvert_exporter": "python",
   "pygments_lexer": "ipython3",
   "version": "3.7.7"
  },
  "toc": {
   "base_numbering": 1,
   "nav_menu": {},
   "number_sections": true,
   "sideBar": true,
   "skip_h1_title": false,
   "title_cell": "Table of Contents",
   "title_sidebar": "Contents",
   "toc_cell": false,
   "toc_position": {},
   "toc_section_display": true,
   "toc_window_display": false
  }
 },
 "nbformat": 4,
 "nbformat_minor": 4
}
