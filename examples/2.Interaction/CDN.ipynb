{
 "cells": [
  {
   "cell_type": "code",
   "execution_count": 1,
   "metadata": {},
   "outputs": [],
   "source": [
    "import numpy as np\n",
    "import pandas as pd\n",
    "\n",
    "import seaborn as sns\n",
    "import matplotlib.pyplot as plt\n",
    "\n",
    "import os,sys,inspect\n",
    "import gc\n",
    "from tqdm import tqdm\n",
    "import random\n",
    "\n",
    "currentdir = os.path.dirname(os.path.abspath(inspect.getfile(inspect.currentframe())))\n",
    "parentdir = os.path.dirname(currentdir)\n",
    "sys.path.insert(0,parentdir) \n",
    "\n",
    "from load import *\n",
    "from evals import *\n",
    "from models import WideAndDeep\n",
    "\n",
    "import warnings\n",
    "warnings.filterwarnings('ignore')"
   ]
  },
  {
   "cell_type": "code",
   "execution_count": 2,
   "metadata": {},
   "outputs": [],
   "source": [
    "from tensorflow import keras\n",
    "import tensorflow as tf\n",
    "from tensorflow.keras import optimizers, callbacks, layers, losses\n",
    "from tensorflow.keras.layers import Dense, Concatenate, Activation, Add, BatchNormalization, Dropout, Input, Embedding, Flatten, Multiply\n",
    "from tensorflow.keras.models import Model, Sequential, load_model\n",
    "from tensorflow.keras.regularizers import l2\n",
    "from tensorflow.keras.utils import to_categorical\n",
    "\n",
    "SEED = 42\n",
    "np.random.seed(SEED)\n",
    "tf.random.set_seed(SEED)\n",
    "os.environ['PYTHONHASHSEED']=str(SEED)\n",
    "random.seed(SEED)\n",
    "gpus = tf.config.experimental.list_physical_devices('GPU')\n",
    "\n",
    "if gpus:\n",
    "    try:\n",
    "        tf.config.experimental.set_memory_growth(gpus[0], True)\n",
    "    except RuntimeError as e:\n",
    "        # 프로그램 시작시에 메모리 증가가 설정되어야만 합니다\n",
    "        print(e)\n",
    "        \n",
    "def mish(x):\n",
    "    return x*tf.math.tanh(tf.math.softplus(x))\n",
    "\n",
    "def leakyrelu(x, factor=0.2):\n",
    "    return tf.maximum(x, factor*x)"
   ]
  },
  {
   "cell_type": "code",
   "execution_count": null,
   "metadata": {},
   "outputs": [],
   "source": []
  },
  {
   "cell_type": "code",
   "execution_count": 3,
   "metadata": {},
   "outputs": [],
   "source": [
    "df = load_data('../data/ml-100k/u.data', threshold=3)\n",
    "uuid = df['userId'].unique()\n",
    "uiid = df['movieId'].unique()\n"
   ]
  },
  {
   "cell_type": "code",
   "execution_count": 4,
   "metadata": {},
   "outputs": [],
   "source": [
    "from sklearn.model_selection import train_test_split\n",
    "\n",
    "train, test = train_test_split(df, test_size=0.15, random_state=SEED, stratify=df['userId'].values)"
   ]
  },
  {
   "cell_type": "code",
   "execution_count": 5,
   "metadata": {},
   "outputs": [
    {
     "data": {
      "text/plain": [
       "((85000, 2), (15000, 2))"
      ]
     },
     "execution_count": 5,
     "metadata": {},
     "output_type": "execute_result"
    }
   ],
   "source": [
    "tr_X = np.stack([train['userId'].values.astype(np.int32), train['movieId'].values.astype(np.int32)], 1)\n",
    "test_X = np.stack([test['userId'].values.astype(np.int32), test['movieId'].values.astype(np.int32)], 1)\n",
    "\n",
    "tr_X.shape, test_X.shape"
   ]
  },
  {
   "cell_type": "code",
   "execution_count": null,
   "metadata": {},
   "outputs": [],
   "source": []
  },
  {
   "cell_type": "code",
   "execution_count": 6,
   "metadata": {},
   "outputs": [],
   "source": [
    "class CrossNetwork(layers.Layer):\n",
    "    def __init__(self, n_layers):\n",
    "        super(CrossNetwork, self).__init__()\n",
    "        self.n_layers = n_layers\n",
    "    \n",
    "    def build(self, input_shape):\n",
    "        dim = input_shape[-1]\n",
    "        self.cross_weights = [self.add_weight(shape=(dim, 1), \n",
    "                                        initializer=tf.random_normal_initializer(),\n",
    "                                       trainable=True,\n",
    "                                       name=f'cross_weight_{i}') for i in range(self.n_layers)]\n",
    "    \n",
    "        self.cross_biases = [self.add_weight(shape=(dim, 1),\n",
    "                                      initializer=tf.random_normal_initializer(),\n",
    "                                      trainable=True,\n",
    "                                      name=f'cross_bias_{i}') for i in range(self.n_layers)]\n",
    "    def call(self, inputs):\n",
    "        x_0 = tf.expand_dims(inputs, -1)\n",
    "        x_l = x_0\n",
    "        for i in range(self.n_layers):\n",
    "            x_l1 = tf.tensordot(x_l, self.cross_weights[i], axes=[1, 0])\n",
    "            x_l = tf.matmul(x_0, x_l1) + self.cross_biases[i]\n",
    "            \n",
    "        x_l = tf.squeeze(x_l, -1)\n",
    "        \n",
    "        return x_l\n",
    "\n",
    "class DeepNetwork(layers.Layer):\n",
    "    def __init__(self, units, activation='relu'):\n",
    "        super(DeepNetwork, self).__init__()\n",
    "        \n",
    "        self.layers = [Dense(unit, activation=activation) for unit in units]\n",
    "    \n",
    "    def call(self, inputs):\n",
    "        x = inputs\n",
    "        for layer in self.layers:\n",
    "            x = layer(x)\n",
    "            \n",
    "        return x"
   ]
  },
  {
   "cell_type": "code",
   "execution_count": 7,
   "metadata": {},
   "outputs": [],
   "source": [
    "class DCN(Model):\n",
    "    def __init__(self, x_dims, latent_dim, n_cross_layers, hidden_units, activation='relu', l2_emb=1e-4):\n",
    "        super(DCN, self).__init__()\n",
    "        self.x_dims = x_dims\n",
    "        self.latent_dim = latent_dim\n",
    "        \n",
    "        self.cross_layers = CrossNetwork(n_cross_layers)\n",
    "        self.deep_layers = DeepNetwork(hidden_units, activation)\n",
    "        \n",
    "        self.embedding = Embedding(sum(x_dims)+1, latent_dim, input_length=1, embeddings_regularizer=l2(l2_emb))\n",
    "    \n",
    "        self.flatten = Flatten()\n",
    "        self.final_dense = Dense(1)\n",
    "        \n",
    "    def call(self, inputs):\n",
    "        embed = self.embedding(inputs + tf.constant((0, *np.cumsum(self.x_dims)))[:-1])\n",
    "        embed = self.flatten(embed)\n",
    "        \n",
    "        # if continuous, concat with embed\n",
    "        \n",
    "        cross_out = self.cross_layers(embed)\n",
    "        deep_out = self.deep_layers(embed)\n",
    "        \n",
    "        out = tf.concat([cross_out, deep_out], 1)\n",
    "        out = self.final_dense(out)\n",
    "        \n",
    "        return out"
   ]
  },
  {
   "cell_type": "code",
   "execution_count": null,
   "metadata": {},
   "outputs": [],
   "source": []
  },
  {
   "cell_type": "code",
   "execution_count": 8,
   "metadata": {},
   "outputs": [],
   "source": [
    "dcn = DCN((len(uuid), len(uiid)), 8, 2, [128,64])"
   ]
  },
  {
   "cell_type": "code",
   "execution_count": 9,
   "metadata": {},
   "outputs": [
    {
     "name": "stdout",
     "output_type": "stream",
     "text": [
      "Epoch 1/10\n",
      "2657/2657 [==============================] - 9s 4ms/step - loss: 0.5938\n",
      "Epoch 2/10\n",
      "2657/2657 [==============================] - 9s 3ms/step - loss: 0.5610\n",
      "Epoch 3/10\n",
      "2657/2657 [==============================] - 9s 3ms/step - loss: 0.5538\n",
      "Epoch 4/10\n",
      "2657/2657 [==============================] - 9s 4ms/step - loss: 0.5485\n",
      "Epoch 5/10\n",
      "2657/2657 [==============================] - 9s 4ms/step - loss: 0.5420\n",
      "Epoch 6/10\n",
      "2657/2657 [==============================] - 9s 3ms/step - loss: 0.5362\n",
      "Epoch 7/10\n",
      "2657/2657 [==============================] - 9s 3ms/step - loss: 0.5313\n",
      "Epoch 8/10\n",
      "2657/2657 [==============================] - 9s 3ms/step - loss: 0.5264\n",
      "Epoch 9/10\n",
      "2657/2657 [==============================] - 9s 4ms/step - loss: 0.5207\n",
      "Epoch 10/10\n",
      "2657/2657 [==============================] - 9s 4ms/step - loss: 0.5157\n"
     ]
    },
    {
     "data": {
      "text/plain": [
       "<tensorflow.python.keras.callbacks.History at 0x28c517f0608>"
      ]
     },
     "execution_count": 9,
     "metadata": {},
     "output_type": "execute_result"
    }
   ],
   "source": [
    "dcn.compile(optimizer='adam',\n",
    "           loss = losses.BinaryCrossentropy(from_logits=True))\n",
    "\n",
    "dcn.fit(tr_X,\n",
    "       train['rating'].values,\n",
    "       epochs=10,\n",
    "       shuffle=True)"
   ]
  },
  {
   "cell_type": "code",
   "execution_count": null,
   "metadata": {},
   "outputs": [],
   "source": []
  },
  {
   "cell_type": "code",
   "execution_count": 10,
   "metadata": {},
   "outputs": [],
   "source": [
    "pred = dcn.predict(test_X)\n"
   ]
  },
  {
   "cell_type": "code",
   "execution_count": 11,
   "metadata": {},
   "outputs": [
    {
     "data": {
      "text/plain": [
       "0.7228666666666667"
      ]
     },
     "execution_count": 11,
     "metadata": {},
     "output_type": "execute_result"
    }
   ],
   "source": [
    "np.sum(np.where(pred>0., 1, 0).flatten() == test['rating'].values) / len(pred)"
   ]
  },
  {
   "cell_type": "code",
   "execution_count": 12,
   "metadata": {},
   "outputs": [
    {
     "name": "stdout",
     "output_type": "stream",
     "text": [
      "0.7906004666065357\n",
      "0.7418904778514126\n",
      "0.7671315220004808\n"
     ]
    }
   ],
   "source": [
    "from sklearn.metrics import precision_score, recall_score,  roc_auc_score, precision_recall_fscore_support\n",
    "\n",
    "print(roc_auc_score(test['rating'].values, pred))\n",
    "print(precision_score(test['rating'].values, np.where(pred>0., 1, 0)))\n",
    "print(recall_score(test['rating'].values, np.where(pred>0., 1, 0)))"
   ]
  },
  {
   "cell_type": "code",
   "execution_count": null,
   "metadata": {},
   "outputs": [],
   "source": []
  }
 ],
 "metadata": {
  "kernelspec": {
   "display_name": "Python 3",
   "language": "python",
   "name": "python3"
  },
  "language_info": {
   "codemirror_mode": {
    "name": "ipython",
    "version": 3
   },
   "file_extension": ".py",
   "mimetype": "text/x-python",
   "name": "python",
   "nbconvert_exporter": "python",
   "pygments_lexer": "ipython3",
   "version": "3.7.7"
  },
  "toc": {
   "base_numbering": 1,
   "nav_menu": {},
   "number_sections": true,
   "sideBar": true,
   "skip_h1_title": false,
   "title_cell": "Table of Contents",
   "title_sidebar": "Contents",
   "toc_cell": false,
   "toc_position": {},
   "toc_section_display": true,
   "toc_window_display": false
  }
 },
 "nbformat": 4,
 "nbformat_minor": 4
}
