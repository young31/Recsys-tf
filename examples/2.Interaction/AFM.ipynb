{
 "cells": [
  {
   "cell_type": "code",
   "execution_count": 1,
   "metadata": {},
   "outputs": [],
   "source": [
    "import numpy as np\n",
    "import pandas as pd\n",
    "\n",
    "import seaborn as sns\n",
    "import matplotlib.pyplot as plt\n",
    "\n",
    "import os,sys,inspect\n",
    "import gc\n",
    "from tqdm import tqdm\n",
    "import random\n",
    "\n",
    "currentdir = os.path.dirname(os.path.abspath(inspect.getfile(inspect.currentframe())))\n",
    "parentdir = os.path.dirname(currentdir)\n",
    "sys.path.insert(0,parentdir) \n",
    "\n",
    "from load import *\n",
    "from evals import *\n",
    "\n",
    "import warnings\n",
    "warnings.filterwarnings('ignore')"
   ]
  },
  {
   "cell_type": "code",
   "execution_count": 2,
   "metadata": {},
   "outputs": [],
   "source": [
    "from tensorflow import keras\n",
    "import tensorflow as tf\n",
    "from tensorflow.keras import optimizers, callbacks, layers, losses\n",
    "from tensorflow.keras.layers import Dense, Concatenate, Activation, Add, BatchNormalization, Dropout, Input, Embedding, Flatten, Multiply\n",
    "from tensorflow.keras.models import Model, Sequential, load_model\n",
    "from tensorflow.keras.regularizers import l2\n",
    "from tensorflow.keras.utils import to_categorical\n",
    "\n",
    "SEED = 42\n",
    "np.random.seed(SEED)\n",
    "tf.random.set_seed(SEED)\n",
    "os.environ['PYTHONHASHSEED']=str(SEED)\n",
    "random.seed(SEED)\n",
    "gpus = tf.config.experimental.list_physical_devices('GPU')\n",
    "\n",
    "if gpus:\n",
    "    try:\n",
    "        tf.config.experimental.set_memory_growth(gpus[0], True)\n",
    "    except RuntimeError as e:\n",
    "        # 프로그램 시작시에 메모리 증가가 설정되어야만 합니다\n",
    "        print(e)\n",
    "        \n",
    "def mish(x):\n",
    "    return x*tf.math.tanh(tf.math.softplus(x))\n",
    "\n",
    "def leakyrelu(x, factor=0.2):\n",
    "    return tf.maximum(x, factor*x)"
   ]
  },
  {
   "cell_type": "markdown",
   "metadata": {},
   "source": [
    "## Load"
   ]
  },
  {
   "cell_type": "code",
   "execution_count": 3,
   "metadata": {},
   "outputs": [],
   "source": [
    "df = load_data('../data/ml-100k/u.data', threshold=3)\n",
    "uuid = df['userId'].unique()\n",
    "uiid = df['movieId'].unique()\n"
   ]
  },
  {
   "cell_type": "code",
   "execution_count": 4,
   "metadata": {},
   "outputs": [],
   "source": [
    "from sklearn.model_selection import train_test_split\n",
    "\n",
    "train, test = train_test_split(df, test_size=0.15, random_state=SEED, stratify=df['userId'].values)"
   ]
  },
  {
   "cell_type": "markdown",
   "metadata": {},
   "source": [
    "## Model"
   ]
  },
  {
   "cell_type": "code",
   "execution_count": 5,
   "metadata": {},
   "outputs": [],
   "source": [
    "class AFM_layer(keras.Model):\n",
    "    def __init__(self, x_dims, latent_dim, att_dim, l2_emb=1e-4):\n",
    "        super(AFM_layer, self).__init__()\n",
    "        self.x_dims = x_dims\n",
    "        self.latent_dim = latent_dim\n",
    "        self.att_dim = att_dim\n",
    "        \n",
    "        \n",
    "        self.embedding = Embedding(sum(x_dims)+1, latent_dim, input_length=1, embeddings_regularizer=l2(l2_emb))\n",
    "        \n",
    "        self.linear = Dense(1)\n",
    "        self.att_dense1 = Dense(att_dim)\n",
    "        self.att_dense2 = Dense(1)\n",
    "        self.final_dense = Dense(1)\n",
    "\n",
    "    def call(self, inputs):\n",
    "        cat_ = [tf.squeeze(tf.one_hot(feat, self.x_dims[i]), 1) for i, feat in enumerate(inputs)]\n",
    "        X_cat = tf.concat(cat_, 1)\n",
    "        X = tf.concat(inputs, 1)\n",
    "\n",
    "        linear_terms = self.linear(X_cat)\n",
    "        non_zero_emb = self.embedding(X + tf.constant((0, *np.cumsum(self.x_dims)))[:-1])\n",
    "\n",
    "        n = len(self.x_dims)\n",
    "        r = []; c = []\n",
    "        for i in range(n-1):\n",
    "            for j in range(i+1, n):\n",
    "                r.append(i), c.append(j)\n",
    "        p = tf.gather(non_zero_emb, r, axis=1)\n",
    "        q = tf.gather(non_zero_emb, c, axis=1)\n",
    "        pairwise = p*q\n",
    "        \n",
    "        att_score = tf.nn.relu(self.att_dense1(pairwise))\n",
    "        att_score = tf.nn.softmax(self.att_dense2(att_score), axis=1)\n",
    "\n",
    "        att_output = tf.reduce_sum(att_score * pairwise, axis=1)\n",
    "\n",
    "        att_output = self.final_dense(att_output)\n",
    "        \n",
    "        y_hat = att_output + linear_terms\n",
    "\n",
    "        return y_hat"
   ]
  },
  {
   "cell_type": "code",
   "execution_count": 6,
   "metadata": {},
   "outputs": [],
   "source": [
    "class AFM(tf.keras.Model):\n",
    "    def __init__(self, x_dim, latnt_dim, att_dim):\n",
    "        super(AFM, self).__init__()\n",
    "        self.afm = AFM_layer(x_dim, latnt_dim, att_dim)\n",
    "\n",
    "    def call(self, inputs):\n",
    "        outputs = self.afm(inputs)\n",
    "#         outputs = tf.nn.sigmoid(outputs)\n",
    "        return outputs"
   ]
  },
  {
   "cell_type": "markdown",
   "metadata": {},
   "source": [
    "## Train"
   ]
  },
  {
   "cell_type": "code",
   "execution_count": 7,
   "metadata": {},
   "outputs": [],
   "source": [
    "afm = AFM((len(uuid), len(uiid)), 8, 8)"
   ]
  },
  {
   "cell_type": "code",
   "execution_count": 8,
   "metadata": {
    "scrolled": true
   },
   "outputs": [
    {
     "name": "stdout",
     "output_type": "stream",
     "text": [
      "Epoch 1/10\n",
      "2391/2391 [==============================] - 10s 4ms/step - loss: 0.6617 - val_loss: 0.6406\n",
      "Epoch 2/10\n",
      "2391/2391 [==============================] - 10s 4ms/step - loss: 0.6206 - val_loss: 0.6137\n",
      "Epoch 3/10\n",
      "2391/2391 [==============================] - 10s 4ms/step - loss: 0.5962 - val_loss: 0.5980\n",
      "Epoch 4/10\n",
      "2391/2391 [==============================] - 10s 4ms/step - loss: 0.5811 - val_loss: 0.5885\n",
      "Epoch 5/10\n",
      "2391/2391 [==============================] - 10s 4ms/step - loss: 0.5711 - val_loss: 0.5824\n",
      "Epoch 6/10\n",
      "2391/2391 [==============================] - 10s 4ms/step - loss: 0.5641 - val_loss: 0.5782\n",
      "Epoch 7/10\n",
      "2391/2391 [==============================] - 10s 4ms/step - loss: 0.5590 - val_loss: 0.5755\n",
      "Epoch 8/10\n",
      "2391/2391 [==============================] - 10s 4ms/step - loss: 0.5552 - val_loss: 0.5735\n",
      "Epoch 9/10\n",
      "2391/2391 [==============================] - 10s 4ms/step - loss: 0.5522 - val_loss: 0.5721\n",
      "Epoch 10/10\n",
      "2391/2391 [==============================] - 10s 4ms/step - loss: 0.5498 - val_loss: 0.5711\n"
     ]
    },
    {
     "data": {
      "text/plain": [
       "<tensorflow.python.keras.callbacks.History at 0x202401db8c8>"
      ]
     },
     "execution_count": 8,
     "metadata": {},
     "output_type": "execute_result"
    }
   ],
   "source": [
    "afm.compile(loss=losses.BinaryCrossentropy(from_logits=True), optimizer=optimizers.Adam())\n",
    "afm.fit([train['userId'].values.astype(np.int32), train['movieId'].values.astype(np.int32)], \n",
    "       train['rating'].values,\n",
    "      epochs=10,\n",
    "      shuffle=True,\n",
    "      validation_split=0.1)"
   ]
  },
  {
   "cell_type": "markdown",
   "metadata": {},
   "source": [
    "## Eval"
   ]
  },
  {
   "cell_type": "code",
   "execution_count": 9,
   "metadata": {},
   "outputs": [],
   "source": [
    "pred = afm.predict([test['userId'].values.astype(np.int32), test['movieId'].values.astype(np.int32)])\n"
   ]
  },
  {
   "cell_type": "code",
   "execution_count": 10,
   "metadata": {},
   "outputs": [
    {
     "data": {
      "text/plain": [
       "0.7111333333333333"
      ]
     },
     "execution_count": 10,
     "metadata": {},
     "output_type": "execute_result"
    }
   ],
   "source": [
    "np.sum(np.where(pred>0., 1, 0).flatten() == test['rating'].values) / len(pred)"
   ]
  },
  {
   "cell_type": "code",
   "execution_count": 11,
   "metadata": {},
   "outputs": [
    {
     "name": "stdout",
     "output_type": "stream",
     "text": [
      "0.7778323519046371\n",
      "0.7173557325188175\n",
      "0.79057465736956\n"
     ]
    }
   ],
   "source": [
    "from sklearn.metrics import precision_score, recall_score,  roc_auc_score, precision_recall_fscore_support\n",
    "\n",
    "print(roc_auc_score(test['rating'].values, pred))\n",
    "print(precision_score(test['rating'].values, np.where(pred>0., 1, 0)))\n",
    "print(recall_score(test['rating'].values, np.where(pred>0., 1, 0)))"
   ]
  },
  {
   "cell_type": "code",
   "execution_count": null,
   "metadata": {},
   "outputs": [],
   "source": []
  }
 ],
 "metadata": {
  "kernelspec": {
   "display_name": "Python 3",
   "language": "python",
   "name": "python3"
  },
  "language_info": {
   "codemirror_mode": {
    "name": "ipython",
    "version": 3
   },
   "file_extension": ".py",
   "mimetype": "text/x-python",
   "name": "python",
   "nbconvert_exporter": "python",
   "pygments_lexer": "ipython3",
   "version": "3.7.7"
  },
  "toc": {
   "base_numbering": 1,
   "nav_menu": {},
   "number_sections": true,
   "sideBar": true,
   "skip_h1_title": false,
   "title_cell": "Table of Contents",
   "title_sidebar": "Contents",
   "toc_cell": false,
   "toc_position": {},
   "toc_section_display": true,
   "toc_window_display": false
  }
 },
 "nbformat": 4,
 "nbformat_minor": 4
}
