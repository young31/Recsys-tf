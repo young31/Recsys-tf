{
 "cells": [
  {
   "cell_type": "code",
   "execution_count": 1,
   "metadata": {},
   "outputs": [],
   "source": [
    "import numpy as np\n",
    "import pandas as pd\n",
    "\n",
    "import seaborn as sns\n",
    "import matplotlib.pyplot as plt\n",
    "\n",
    "import os,sys,inspect\n",
    "import gc\n",
    "from tqdm import tqdm\n",
    "import random\n",
    "\n",
    "currentdir = os.path.dirname(os.path.abspath(inspect.getfile(inspect.currentframe())))\n",
    "parentdir = os.path.dirname(currentdir)\n",
    "sys.path.insert(0,parentdir) \n",
    "\n",
    "from load import *\n",
    "from evals import *\n",
    "\n",
    "import warnings\n",
    "warnings.filterwarnings('ignore')"
   ]
  },
  {
   "cell_type": "code",
   "execution_count": 2,
   "metadata": {},
   "outputs": [],
   "source": [
    "from tensorflow import keras\n",
    "import tensorflow as tf\n",
    "from tensorflow.keras import optimizers, callbacks, layers, losses\n",
    "from tensorflow.keras.layers import Dense, Concatenate, Activation, Add, BatchNormalization, Dropout, Input, Embedding, Flatten, Multiply\n",
    "from tensorflow.keras.models import Model, Sequential, load_model\n",
    "\n",
    "SEED = 42\n",
    "np.random.seed(SEED)\n",
    "tf.random.set_seed(SEED)\n",
    "os.environ['PYTHONHASHSEED']=str(SEED)\n",
    "random.seed(SEED)\n",
    "gpus = tf.config.experimental.list_physical_devices('GPU')\n",
    "\n",
    "if gpus:\n",
    "    try:\n",
    "        tf.config.experimental.set_memory_growth(gpus[0], True)\n",
    "    except RuntimeError as e:\n",
    "        # 프로그램 시작시에 메모리 증가가 설정되어야만 합니다\n",
    "        print(e)\n",
    "        \n",
    "def mish(x):\n",
    "    return x*tf.math.tanh(tf.math.softplus(x))\n",
    "\n",
    "def leakyrelu(x, factor=0.2):\n",
    "    return tf.maximum(x, factor*x)"
   ]
  },
  {
   "cell_type": "code",
   "execution_count": null,
   "metadata": {},
   "outputs": [],
   "source": []
  },
  {
   "cell_type": "markdown",
   "metadata": {},
   "source": [
    "## Load"
   ]
  },
  {
   "cell_type": "code",
   "execution_count": 3,
   "metadata": {},
   "outputs": [],
   "source": [
    "df = load_data('../data/ml-100k/u.data')\n",
    "\n",
    "uuid = df['userId'].unique()\n",
    "uiid = df['movieId'].unique()\n"
   ]
  },
  {
   "cell_type": "code",
   "execution_count": 4,
   "metadata": {},
   "outputs": [
    {
     "name": "stderr",
     "output_type": "stream",
     "text": [
      "100%|██████████| 943/943 [00:05<00:00, 170.09it/s]\n",
      "100%|██████████| 943/943 [00:03<00:00, 253.31it/s]\n",
      "100%|██████████| 943/943 [00:02<00:00, 369.29it/s]\n"
     ]
    }
   ],
   "source": [
    "df = add_negative(df, uiid, 4)\n",
    "\n",
    "idx = list(df.index)\n",
    "np.random.shuffle(idx)\n",
    "df = df.loc[idx]\n",
    "\n",
    "rtd = extract_from_df(df, 2, 0)\n",
    "\n",
    "train = df.drop(rtd)\n",
    "\n",
    "val = df.loc[rtd]\n",
    "rtd = extract_from_df(val, 1, 0)\n",
    "test = val.drop(rtd)\n",
    "val = val.loc[rtd]"
   ]
  },
  {
   "cell_type": "code",
   "execution_count": null,
   "metadata": {},
   "outputs": [],
   "source": []
  },
  {
   "cell_type": "markdown",
   "metadata": {},
   "source": [
    "## Model"
   ]
  },
  {
   "cell_type": "markdown",
   "metadata": {},
   "source": [
    "### Simpler version"
   ]
  },
  {
   "cell_type": "code",
   "execution_count": 5,
   "metadata": {},
   "outputs": [],
   "source": [
    "def build_gmf(u_dim, i_dim, gmf_dim):\n",
    "    u_input = Input(shape=(1, ))\n",
    "    i_input = Input(shape=(1, ))\n",
    "\n",
    "    u_emb_gmf = Flatten()(Embedding(u_dim, gmf_dim, input_length=u_input.shape[1])(u_input))\n",
    "    i_emb_gmf = Flatten()(Embedding(i_dim, gmf_dim, input_length=i_input.shape[1])(i_input))\n",
    "\n",
    "    # gmf\n",
    "    mul = Multiply()([u_emb_gmf, i_emb_gmf])\n",
    "\n",
    "    out = Dense(1)(mul)\n",
    "\n",
    "    return Model([u_input, i_input], out, name='GMF')\n",
    "\n",
    "def build_mlp(u_dim, i_dim, mlp_dim):\n",
    "    u_input = Input(shape=(1, ))\n",
    "    i_input = Input(shape=(1, ))\n",
    "    \n",
    "    u_emb_mlp = Flatten()(Embedding(u_dim, mlp_dim, input_length=u_input.shape[1])(u_input))\n",
    "    i_emb_mlp = Flatten()(Embedding(i_dim, mlp_dim, input_length=i_input.shape[1])(i_input))\n",
    "\n",
    "    # mlp\n",
    "    concat = Concatenate()([u_emb_mlp, i_emb_mlp])\n",
    "\n",
    "    h = Dense(128, activation='relu')(concat)\n",
    "#     h = Dropout(0.2)(h)\n",
    "    h = Dense(64, activation='relu')(h)\n",
    "    h = Dropout(0.2)(h)\n",
    "\n",
    "    out = Dense(1)(h)\n",
    "\n",
    "    return Model([u_input, i_input], out, name='MLP')\n",
    "\n",
    "def build_nmf(u_dim, i_dim, gmf_dim, mlp_dim):\n",
    "    u_input = Input(shape=(1, ))\n",
    "    i_input = Input(shape=(1, ))\n",
    "\n",
    "    u_emb_gmf = Flatten()(Embedding(u_dim, gmf_dim, input_length=u_input.shape[1])(u_input))\n",
    "    i_emb_gmf = Flatten()(Embedding(i_dim, gmf_dim, input_length=i_input.shape[1])(i_input))\n",
    "\n",
    "    u_emb_mlp = Flatten()(Embedding(u_dim, mlp_dim, input_length=u_input.shape[1])(u_input))\n",
    "    i_emb_mlp = Flatten()(Embedding(i_dim, mlp_dim, input_length=i_input.shape[1])(i_input))\n",
    "\n",
    "    # gmf\n",
    "    mul = Multiply()([u_emb_gmf, i_emb_gmf])\n",
    "\n",
    "    # mlp\n",
    "    concat = Concatenate()([u_emb_mlp, i_emb_mlp])\n",
    "\n",
    "    h = Dense(128, activation='relu')(concat)\n",
    "#     h = Dropout(0.2)(h)\n",
    "    h = Dense(64, activation='relu')(h)\n",
    "    h = Dropout(0.2)(h)\n",
    "\n",
    "    con = Concatenate()([mul, h])\n",
    "\n",
    "    out = Dense(1)(con)\n",
    "\n",
    "    return Model([u_input, i_input], out, name='NMF')"
   ]
  },
  {
   "cell_type": "markdown",
   "metadata": {},
   "source": [
    "## Train"
   ]
  },
  {
   "cell_type": "code",
   "execution_count": 6,
   "metadata": {},
   "outputs": [],
   "source": [
    "class ValCallback(callbacks.Callback):\n",
    "    def __init__(self):\n",
    "        self.best_score = 0\n",
    "        self.bw = None\n",
    "        self.score_hist = []\n",
    "        self.score_hist_ = []\n",
    "    \n",
    "    def on_epoch_end(self, epochs, logs=None):\n",
    "        if epochs%1 == 0:\n",
    "            uid = np.random.choice(uuid, int(len(uuid)*0.3), replace=False)\n",
    "            hits = list(map(eval_hit_wrapper(self.model, train, val, uiid, 10), uid))\n",
    "            score = sum(hits)\n",
    "            self.score_hist.append(score)\n",
    "            self.score_hist_.append(score/len(hits))\n",
    "            if self.best_score < score:\n",
    "                self.bw = self.model.get_weights()\n",
    "                self.best_score = score"
   ]
  },
  {
   "cell_type": "code",
   "execution_count": 7,
   "metadata": {
    "scrolled": true
   },
   "outputs": [
    {
     "name": "stdout",
     "output_type": "stream",
     "text": [
      "Epoch 1/10\n",
      "13549/13549 [==============================] - 45s 3ms/step - loss: 0.5087 - val_loss: 0.3842\n",
      "Epoch 2/10\n",
      "13549/13549 [==============================] - 47s 3ms/step - loss: 0.3613 - val_loss: 0.3588\n",
      "Epoch 3/10\n",
      "13549/13549 [==============================] - 48s 4ms/step - loss: 0.3481 - val_loss: 0.3473\n",
      "Epoch 4/10\n",
      "13549/13549 [==============================] - 46s 3ms/step - loss: 0.3302 - val_loss: 0.3299\n",
      "Epoch 5/10\n",
      "13549/13549 [==============================] - 46s 3ms/step - loss: 0.3110 - val_loss: 0.3169\n",
      "Epoch 6/10\n",
      "13549/13549 [==============================] - 46s 3ms/step - loss: 0.2985 - val_loss: 0.3103\n",
      "Epoch 7/10\n",
      "13549/13549 [==============================] - 47s 3ms/step - loss: 0.2912 - val_loss: 0.3062\n",
      "Epoch 8/10\n",
      "13549/13549 [==============================] - 47s 3ms/step - loss: 0.2856 - val_loss: 0.3027\n",
      "Epoch 9/10\n",
      "13549/13549 [==============================] - 48s 4ms/step - loss: 0.2801 - val_loss: 0.2991\n",
      "Epoch 10/10\n",
      "13549/13549 [==============================] - 46s 3ms/step - loss: 0.2743 - val_loss: 0.2957\n"
     ]
    }
   ],
   "source": [
    "gmf = build_gmf(len(uuid), len(uiid), 16)\n",
    "gmf.compile(optimizer=optimizers.Adam(2e-4), loss=losses.BinaryCrossentropy(from_logits=True))\n",
    "\n",
    "gmf_cb = ValCallback()\n",
    "\n",
    "hist_gmf = gmf.fit([train['userId'].values, train['movieId'].values],\n",
    "                   train['rating'].values,\n",
    "                   shuffle=True,\n",
    "                   epochs=10,\n",
    "                  callbacks=[gmf_cb],\n",
    "                  validation_split=0.1)"
   ]
  },
  {
   "cell_type": "code",
   "execution_count": 8,
   "metadata": {
    "scrolled": true
   },
   "outputs": [
    {
     "name": "stdout",
     "output_type": "stream",
     "text": [
      "Epoch 1/10\n",
      "13549/13549 [==============================] - 55s 4ms/step - loss: 0.3746 - val_loss: 0.3591\n",
      "Epoch 2/10\n",
      "13549/13549 [==============================] - 55s 4ms/step - loss: 0.3540 - val_loss: 0.3501\n",
      "Epoch 3/10\n",
      "13549/13549 [==============================] - 54s 4ms/step - loss: 0.3286 - val_loss: 0.3224\n",
      "Epoch 4/10\n",
      "13549/13549 [==============================] - 54s 4ms/step - loss: 0.3111 - val_loss: 0.3144\n",
      "Epoch 5/10\n",
      "13549/13549 [==============================] - 55s 4ms/step - loss: 0.3013 - val_loss: 0.3071\n",
      "Epoch 6/10\n",
      "13549/13549 [==============================] - 54s 4ms/step - loss: 0.2909 - val_loss: 0.3002\n",
      "Epoch 7/10\n",
      "13549/13549 [==============================] - 54s 4ms/step - loss: 0.2828 - val_loss: 0.2958\n",
      "Epoch 8/10\n",
      "13549/13549 [==============================] - 54s 4ms/step - loss: 0.2769 - val_loss: 0.2939\n",
      "Epoch 9/10\n",
      "13549/13549 [==============================] - 54s 4ms/step - loss: 0.2717 - val_loss: 0.2909\n",
      "Epoch 10/10\n",
      "13549/13549 [==============================] - 54s 4ms/step - loss: 0.2672 - val_loss: 0.2938\n"
     ]
    }
   ],
   "source": [
    "mlp = build_mlp(len(uuid), len(uiid), 16)\n",
    "mlp.compile(optimizer=optimizers.Adam(2e-4), loss=losses.BinaryCrossentropy(from_logits=True))\n",
    "\n",
    "mlp_cb = ValCallback()\n",
    "\n",
    "hist_mlp = mlp.fit([train['userId'].values, train['movieId'].values],\n",
    "                   train['rating'].values,\n",
    "                   shuffle=True,\n",
    "                   epochs=10,\n",
    "                  callbacks=[mlp_cb],\n",
    "                  validation_split=0.1)"
   ]
  },
  {
   "cell_type": "code",
   "execution_count": 9,
   "metadata": {
    "scrolled": true
   },
   "outputs": [
    {
     "name": "stdout",
     "output_type": "stream",
     "text": [
      "Epoch 1/10\n",
      "13549/13549 [==============================] - 59s 4ms/step - loss: 0.3746 - val_loss: 0.3589\n",
      "Epoch 2/10\n",
      "13549/13549 [==============================] - 59s 4ms/step - loss: 0.3430 - val_loss: 0.3292\n",
      "Epoch 3/10\n",
      "13549/13549 [==============================] - 60s 4ms/step - loss: 0.3054 - val_loss: 0.3061\n",
      "Epoch 4/10\n",
      "13549/13549 [==============================] - 59s 4ms/step - loss: 0.2848 - val_loss: 0.2971\n",
      "Epoch 5/10\n",
      "13549/13549 [==============================] - 59s 4ms/step - loss: 0.2705 - val_loss: 0.2905\n",
      "Epoch 6/10\n",
      "13549/13549 [==============================] - 59s 4ms/step - loss: 0.2586 - val_loss: 0.2859\n",
      "Epoch 7/10\n",
      "13549/13549 [==============================] - 59s 4ms/step - loss: 0.2488 - val_loss: 0.2823\n",
      "Epoch 8/10\n",
      "13549/13549 [==============================] - 59s 4ms/step - loss: 0.2403 - val_loss: 0.2822\n",
      "Epoch 9/10\n",
      "13549/13549 [==============================] - 60s 4ms/step - loss: 0.2327 - val_loss: 0.2811\n",
      "Epoch 10/10\n",
      "13549/13549 [==============================] - 60s 4ms/step - loss: 0.2262 - val_loss: 0.2862\n"
     ]
    }
   ],
   "source": [
    "nmf = build_nmf(len(uuid), len(uiid), 16, 16)\n",
    "nmf.compile(optimizer=optimizers.Adam(2e-4), loss=losses.BinaryCrossentropy(from_logits=True))\n",
    "\n",
    "nmf_cb = ValCallback()\n",
    "\n",
    "hist_nmf = nmf.fit([train['userId'].values, train['movieId'].values],\n",
    "                   train['rating'].values,\n",
    "                   shuffle=True,\n",
    "                   epochs=10,\n",
    "                  callbacks=[nmf_cb],\n",
    "                  validation_split=0.1)"
   ]
  },
  {
   "cell_type": "markdown",
   "metadata": {},
   "source": [
    "## Eval"
   ]
  },
  {
   "cell_type": "markdown",
   "metadata": {},
   "source": [
    "### Losses"
   ]
  },
  {
   "cell_type": "code",
   "execution_count": 10,
   "metadata": {
    "scrolled": true
   },
   "outputs": [
    {
     "data": {
      "text/plain": [
       "<matplotlib.legend.Legend at 0x2468f583608>"
      ]
     },
     "execution_count": 10,
     "metadata": {},
     "output_type": "execute_result"
    },
    {
     "data": {
      "image/png": "[encoded data removed]",
      "text/plain": [
       "<Figure size 432x288 with 1 Axes>"
      ]
     },
     "metadata": {
      "needs_background": "light"
     },
     "output_type": "display_data"
    }
   ],
   "source": [
    "plt.plot(hist_gmf.history['loss'], label='GMF')\n",
    "plt.plot(hist_mlp.history['loss'], label='MLP')\n",
    "plt.plot(hist_nmf.history['loss'], label='NMF')\n",
    "plt.legend()"
   ]
  },
  {
   "cell_type": "code",
   "execution_count": 11,
   "metadata": {},
   "outputs": [
    {
     "data": {
      "text/plain": [
       "<matplotlib.legend.Legend at 0x2468f928408>"
      ]
     },
     "execution_count": 11,
     "metadata": {},
     "output_type": "execute_result"
    },
    {
     "data": {
      "image/png": "[encoded data removed]",
      "text/plain": [
       "<Figure size 432x288 with 1 Axes>"
      ]
     },
     "metadata": {
      "needs_background": "light"
     },
     "output_type": "display_data"
    }
   ],
   "source": [
    "plt.plot(gmf_cb.score_hist, label='GMF')\n",
    "plt.plot(mlp_cb.score_hist, label='MLP')\n",
    "plt.plot(nmf_cb.score_hist, label='NMF')\n",
    "plt.legend()"
   ]
  },
  {
   "cell_type": "markdown",
   "metadata": {},
   "source": [
    "### Hit@10"
   ]
  },
  {
   "cell_type": "markdown",
   "metadata": {},
   "source": [
    "#### GMF"
   ]
  },
  {
   "cell_type": "code",
   "execution_count": 12,
   "metadata": {},
   "outputs": [
    {
     "name": "stdout",
     "output_type": "stream",
     "text": [
      "0.782608695652174\n",
      "Wall time: 53 s\n"
     ]
    }
   ],
   "source": [
    "%%time\n",
    "hits_gmf10 = list(map(eval_hit_wrapper(gmf, train, test, uiid, 10), uuid))\n",
    "print(sum(hits_gmf10)/len(hits_gmf10))"
   ]
  },
  {
   "cell_type": "markdown",
   "metadata": {},
   "source": [
    "#### MLP"
   ]
  },
  {
   "cell_type": "code",
   "execution_count": 13,
   "metadata": {},
   "outputs": [
    {
     "name": "stdout",
     "output_type": "stream",
     "text": [
      "0.8016967126193001\n"
     ]
    }
   ],
   "source": [
    "hits_mlp10 = list(map(eval_hit_wrapper(mlp, train, test, uiid, 10), uuid))\n",
    "print(sum(hits_mlp10)/len(hits_mlp10))"
   ]
  },
  {
   "cell_type": "markdown",
   "metadata": {},
   "source": [
    "#### NMF"
   ]
  },
  {
   "cell_type": "code",
   "execution_count": 14,
   "metadata": {},
   "outputs": [
    {
     "name": "stdout",
     "output_type": "stream",
     "text": [
      "0.809119830328738\n"
     ]
    }
   ],
   "source": [
    "hits_nmf10 = list(map(eval_hit_wrapper(nmf, train, test, uiid, 10), uuid))\n",
    "print(sum(hits_nmf10)/len(hits_nmf10))"
   ]
  },
  {
   "cell_type": "markdown",
   "metadata": {},
   "source": [
    "### NDCG@10"
   ]
  },
  {
   "cell_type": "markdown",
   "metadata": {},
   "source": [
    "#### GMF"
   ]
  },
  {
   "cell_type": "code",
   "execution_count": 15,
   "metadata": {},
   "outputs": [
    {
     "name": "stdout",
     "output_type": "stream",
     "text": [
      "0.3574474090414622\n",
      "Wall time: 54.3 s\n"
     ]
    }
   ],
   "source": [
    "%%time\n",
    "ndcg_gmf10 = list(map(eval_NDCG_wrapper(gmf, train, test, uiid, 10), uuid))\n",
    "print(sum(ndcg_gmf10)/len(ndcg_gmf10))"
   ]
  },
  {
   "cell_type": "markdown",
   "metadata": {},
   "source": [
    "#### MLP"
   ]
  },
  {
   "cell_type": "code",
   "execution_count": 16,
   "metadata": {},
   "outputs": [
    {
     "name": "stdout",
     "output_type": "stream",
     "text": [
      "0.3836345815475264\n"
     ]
    }
   ],
   "source": [
    "ndcg_mlp10 = list(map(eval_NDCG_wrapper(mlp, train, test, uiid, 10), uuid))\n",
    "print(sum(ndcg_mlp10)/len(ndcg_mlp10))"
   ]
  },
  {
   "cell_type": "markdown",
   "metadata": {},
   "source": [
    "#### NMF"
   ]
  },
  {
   "cell_type": "code",
   "execution_count": 17,
   "metadata": {},
   "outputs": [
    {
     "name": "stdout",
     "output_type": "stream",
     "text": [
      "0.3448815446915423\n"
     ]
    }
   ],
   "source": [
    "ndcg_nmf10 = list(map(eval_NDCG_wrapper(nmf, train, test, uiid, 10), uuid))\n",
    "print(sum(ndcg_nmf10)/len(ndcg_nmf10))"
   ]
  },
  {
   "cell_type": "code",
   "execution_count": null,
   "metadata": {},
   "outputs": [],
   "source": []
  }
 ],
 "metadata": {
  "kernelspec": {
   "display_name": "Python 3",
   "language": "python",
   "name": "python3"
  },
  "language_info": {
   "codemirror_mode": {
    "name": "ipython",
    "version": 3
   },
   "file_extension": ".py",
   "mimetype": "text/x-python",
   "name": "python",
   "nbconvert_exporter": "python",
   "pygments_lexer": "ipython3",
   "version": "3.7.7"
  },
  "toc": {
   "base_numbering": 1,
   "nav_menu": {},
   "number_sections": true,
   "sideBar": true,
   "skip_h1_title": false,
   "title_cell": "Table of Contents",
   "title_sidebar": "Contents",
   "toc_cell": false,
   "toc_position": {},
   "toc_section_display": true,
   "toc_window_display": false
  }
 },
 "nbformat": 4,
 "nbformat_minor": 4
}
